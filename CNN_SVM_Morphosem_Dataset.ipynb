{
 "cells": [
  {
   "cell_type": "code",
   "execution_count": 1,
   "id": "70e6b458",
   "metadata": {},
   "outputs": [],
   "source": [
    "# Import manipulating files libraries\n",
    "import os, glob\n",
    "\n",
    "# Import graph/image plotting libraries\n",
    "import matplotlib.pyplot as plt\n",
    "import seaborn as sns\n",
    "sns.set(style=\"darkgrid\")\n",
    "\n",
    "# Import loading and manipulating neuroimaging data library\n",
    "import nibabel as nib\n",
    "\n",
    "# Import array manipulating libraries\n",
    "import numpy as np\n",
    "import pandas as pd\n",
    "\n",
    "# Import deep learning model libraries\n",
    "import tensorflow as tf\n",
    "import keras\n",
    "from keras.callbacks import TensorBoard\n",
    "from keras.models import Model, Sequential\n",
    "\n",
    "from keras.layers import Input, Dense, Flatten, Dropout, Conv2D, MaxPooling2D, BatchNormalization\n",
    "\n",
    "from keras import backend as K\n",
    "from keras.callbacks import ModelCheckpoint\n",
    "from keras.models import load_model\n",
    "\n",
    "# Import date/time library to save models with date/time\n",
    "from datetime import datetime\n",
    "from tensorflow.keras.regularizers import l2"
   ]
  },
  {
   "cell_type": "code",
   "execution_count": 19,
   "id": "2e3b60c1",
   "metadata": {},
   "outputs": [],
   "source": [
    "# Get data path\n",
    "data_path = 'D:/Dyslexia fMRI/Dataset01_MorphoSem/**/*.nii.gz'\n",
    "# Find all files within the location that matches our search string\n",
    "files = glob.glob(data_path)\n",
    "\n",
    "# Get the labels for our data from our csv file\n",
    "Labels = pd.read_csv('D:/Dyslexia fMRI/Dataset01_MorphoSem/labeled_data.csv')\n",
    "# Define our target from the column \"Labels\" as our y in our model\n",
    "target = Labels['Label']"
   ]
  },
  {
   "cell_type": "code",
   "execution_count": 20,
   "id": "b8b5375e",
   "metadata": {},
   "outputs": [
    {
     "name": "stdout",
     "output_type": "stream",
     "text": [
      "160\n",
      "(160, 84, 84, 54)\n"
     ]
    }
   ],
   "source": [
    "# Loop through files and load all data files\n",
    "data_all, images = [], []\n",
    "for data_file in sorted(files):\n",
    "    data = nib.load(data_file).get_fdata()\n",
    "    first_vol = data[:,:,:,0]\n",
    "    first = first_vol / 255\n",
    "    data_all.append(first)\n",
    "    \n",
    "# Convert our list into a numpy array\n",
    "images = np.asarray(data_all)\n",
    "\n",
    "print(len(data_all))\n",
    "print (np.shape(images))"
   ]
  },
  {
   "cell_type": "code",
   "execution_count": 78,
   "id": "480b8cf8",
   "metadata": {},
   "outputs": [],
   "source": [
    "#Saving the data read as an np file\n",
    "np.save('data_morpho1.npy', images)    # .npy extension is added if not given"
   ]
  },
  {
   "cell_type": "code",
   "execution_count": 2,
   "id": "411c783a",
   "metadata": {},
   "outputs": [],
   "source": [
    "# To load the npy data file from the original dataset\n",
    "images = np.load('data_morpho1.npy')\n",
    "\n",
    "# Get the labels for our data from our csv file\n",
    "Labels = pd.read_csv('labeled_data.csv')\n",
    "# Define our target from the column \"Labels\" as our y in our model\n",
    "target = Labels['Label']"
   ]
  },
  {
   "cell_type": "code",
   "execution_count": 3,
   "id": "85664c5c",
   "metadata": {},
   "outputs": [
    {
     "name": "stdout",
     "output_type": "stream",
     "text": [
      "(112, 84, 84, 54)\n",
      "(24, 84, 84, 54)\n",
      "(24, 84, 84, 54)\n"
     ]
    }
   ],
   "source": [
    "# Create list of indices\n",
    "N = images.shape[0]\n",
    "#N = data_1.shape[0]\n",
    "indexes = np.arange(N)\n",
    "\n",
    "# Divide our dataset into dyslexics and controls to have a balanced train, validation and test sets\n",
    "dis = indexes[:80]\n",
    "con = indexes[80:]\n",
    "\n",
    "#  Cut the dataset at 70% to create the training, 15% validation and 15% test set\n",
    "size = dis.shape[0]\n",
    "split_1 = int(0.7 * size)\n",
    "split_2 = int(0.85 * size)\n",
    "\n",
    "# Shuffle our dyslexics and controls arrays to create random indexes\n",
    "np.random.shuffle(np.asarray(dis))\n",
    "np.random.shuffle(np.asarray(con))\n",
    "\n",
    "# Create our indexes for our train, validation and test sets according to our previous division (80%, 10%, 10%)\n",
    "indexes_train_dis, indexes_train_con = dis[:split_1], con[:split_1]\n",
    "indexes_val_dis, indexes_val_con   = dis[split_1:split_2], con[split_1:split_2]\n",
    "indexes_test_dis, indexes_test_con = dis[split_2:], con[split_2:]\n",
    "\n",
    "# We concatenate our training, validation and test indexes for dyslexics and controls\n",
    "# By doing that we ensure that each set is balanced with the same number of dyslexics and controls\n",
    "indexes_train = np.concatenate((indexes_train_dis, indexes_train_con), axis=None)\n",
    "indexes_val = np.concatenate((indexes_val_dis, indexes_val_con), axis=None)\n",
    "indexes_test = np.concatenate((indexes_test_dis, indexes_test_con), axis=None)\n",
    "\n",
    "\n",
    "# Split the data into training, validation and test sets according to the indexes created previously\n",
    "X_train = images[indexes_train, ...]\n",
    "X_val = images[indexes_val, ...]\n",
    "X_test = images[indexes_test, ...]\n",
    "# X_train = data_1[indexes_train, ...]\n",
    "# X_val = data_1[indexes_val, ...]\n",
    "# X_test = data_1[indexes_test, ...]\n",
    "print(X_train.shape)\n",
    "print(X_val.shape)\n",
    "print(X_test.shape)"
   ]
  },
  {
   "cell_type": "code",
   "execution_count": 4,
   "id": "07d509fc",
   "metadata": {},
   "outputs": [],
   "source": [
    "# Create outcome variable for each set (training, validation and test)\n",
    "y_train = target[indexes_train] \n",
    "y_val   = target[indexes_val]\n",
    "y_test  = target[indexes_test]"
   ]
  },
  {
   "cell_type": "code",
   "execution_count": 5,
   "id": "af226780",
   "metadata": {},
   "outputs": [],
   "source": [
    "# Our vectorized labels\n",
    "y_train = np.asarray(y_train).astype('int32')\n",
    "y_test = np.asarray(y_test).astype('int32')\n",
    "y_val = np.asarray(y_val).astype('int32')"
   ]
  },
  {
   "cell_type": "code",
   "execution_count": 6,
   "id": "57ec9811",
   "metadata": {},
   "outputs": [
    {
     "name": "stdout",
     "output_type": "stream",
     "text": [
      "tf.Tensor(\n",
      "[[0. 1.]\n",
      " [0. 1.]\n",
      " [0. 1.]\n",
      " [0. 1.]\n",
      " [0. 1.]\n",
      " [0. 1.]\n",
      " [0. 1.]\n",
      " [0. 1.]\n",
      " [0. 1.]\n",
      " [0. 1.]\n",
      " [0. 1.]\n",
      " [0. 1.]\n",
      " [1. 0.]\n",
      " [1. 0.]\n",
      " [1. 0.]\n",
      " [1. 0.]\n",
      " [1. 0.]\n",
      " [1. 0.]\n",
      " [1. 0.]\n",
      " [1. 0.]\n",
      " [1. 0.]\n",
      " [1. 0.]\n",
      " [1. 0.]\n",
      " [1. 0.]], shape=(24, 2), dtype=float32)\n"
     ]
    }
   ],
   "source": [
    "y_train = tf.one_hot(y_train, 2)\n",
    "y_test = tf.one_hot(y_test, 2)\n",
    "y_val = tf.one_hot(y_val, 2)\n",
    "print(y_val)"
   ]
  },
  {
   "cell_type": "code",
   "execution_count": 7,
   "id": "74859612",
   "metadata": {},
   "outputs": [
    {
     "name": "stdout",
     "output_type": "stream",
     "text": [
      "(84, 84, 54)\n"
     ]
    }
   ],
   "source": [
    "# Here we begin to create our sequential model\n",
    "\n",
    "# Get shape of input data\n",
    "data_shape = tuple(X_train.shape[1:])\n",
    "# We check the shape of our data (Nifti files)\n",
    "print(data_shape)\n",
    "\n",
    "# Specify shape of convolution kernel\n",
    "kernel_size = (3, 3)\n",
    "\n",
    "# Specify number of output categories\n",
    "n_classes = 2\n",
    "\n",
    "# Specify number of filters per layer\n",
    "filters = 16"
   ]
  },
  {
   "cell_type": "code",
   "execution_count": 12,
   "id": "231954c6",
   "metadata": {},
   "outputs": [
    {
     "name": "stdout",
     "output_type": "stream",
     "text": [
      "Model: \"sequential\"\n",
      "_________________________________________________________________\n",
      " Layer (type)                Output Shape              Param #   \n",
      "=================================================================\n",
      " conv2d (Conv2D)             (None, 82, 82, 16)        7792      \n",
      "                                                                 \n",
      " batch_normalization (BatchN  (None, 82, 82, 16)       64        \n",
      " ormalization)                                                   \n",
      "                                                                 \n",
      " max_pooling2d (MaxPooling2D  (None, 41, 41, 16)       0         \n",
      " )                                                               \n",
      "                                                                 \n",
      " conv2d_1 (Conv2D)           (None, 39, 39, 32)        4640      \n",
      "                                                                 \n",
      " batch_normalization_1 (Batc  (None, 39, 39, 32)       128       \n",
      " hNormalization)                                                 \n",
      "                                                                 \n",
      " max_pooling2d_1 (MaxPooling  (None, 19, 19, 32)       0         \n",
      " 2D)                                                             \n",
      "                                                                 \n",
      " conv2d_2 (Conv2D)           (None, 17, 17, 64)        18496     \n",
      "                                                                 \n",
      " batch_normalization_2 (Batc  (None, 17, 17, 64)       256       \n",
      " hNormalization)                                                 \n",
      "                                                                 \n",
      " max_pooling2d_2 (MaxPooling  (None, 8, 8, 64)         0         \n",
      " 2D)                                                             \n",
      "                                                                 \n",
      " flatten (Flatten)           (None, 4096)              0         \n",
      "                                                                 \n",
      " dense (Dense)               (None, 64)                262208    \n",
      "                                                                 \n",
      " dropout (Dropout)           (None, 64)                0         \n",
      "                                                                 \n",
      " dense_1 (Dense)             (None, 2)                 130       \n",
      "                                                                 \n",
      "=================================================================\n",
      "Total params: 293,714\n",
      "Trainable params: 293,490\n",
      "Non-trainable params: 224\n",
      "_________________________________________________________________\n"
     ]
    },
    {
     "name": "stderr",
     "output_type": "stream",
     "text": [
      "C:\\Anaconda3\\envs\\env_tfgpu\\lib\\site-packages\\keras\\backend.py:450: UserWarning: `tf.keras.backend.set_learning_phase` is deprecated and will be removed after 2020-10-11. To update it, simply pass a True/False value to the `training` argument of the `__call__` method of your layer or model.\n",
      "  warnings.warn('`tf.keras.backend.set_learning_phase` is deprecated and '\n"
     ]
    },
    {
     "name": "stdout",
     "output_type": "stream",
     "text": [
      "Epoch 1/50\n",
      "19/20 [===========================>..] - ETA: 0s - loss: 1.8035 - accuracy: 0.5000WARNING:tensorflow:Your input ran out of data; interrupting training. Make sure that your dataset or generator can generate at least `steps_per_epoch * epochs` batches (in this case, 10 batches). You may need to use the repeat() function when building your dataset.\n",
      "20/20 [==============================] - 81s 134ms/step - loss: 1.7369 - accuracy: 0.5169 - val_loss: 1.0946 - val_accuracy: 0.5000\n",
      "Epoch 2/50\n",
      "20/20 [==============================] - 1s 32ms/step - loss: 0.7435 - accuracy: 0.7288\n",
      "Epoch 3/50\n",
      "20/20 [==============================] - 1s 31ms/step - loss: 0.6322 - accuracy: 0.6949\n",
      "Epoch 4/50\n",
      "20/20 [==============================] - 1s 32ms/step - loss: 0.3637 - accuracy: 0.8644\n",
      "Epoch 5/50\n",
      "20/20 [==============================] - 1s 31ms/step - loss: 0.3925 - accuracy: 0.8220\n",
      "Epoch 6/50\n",
      "20/20 [==============================] - 1s 31ms/step - loss: 0.3560 - accuracy: 0.8644\n",
      "Epoch 7/50\n",
      "20/20 [==============================] - 1s 30ms/step - loss: 0.2493 - accuracy: 0.8814\n",
      "Epoch 8/50\n",
      "20/20 [==============================] - 1s 32ms/step - loss: 0.2365 - accuracy: 0.9153\n",
      "Epoch 9/50\n",
      "20/20 [==============================] - 1s 30ms/step - loss: 0.2402 - accuracy: 0.9153\n",
      "Epoch 10/50\n",
      "20/20 [==============================] - 1s 29ms/step - loss: 0.1465 - accuracy: 0.9237\n",
      "Epoch 11/50\n",
      "20/20 [==============================] - 1s 31ms/step - loss: 0.1265 - accuracy: 0.9322\n",
      "Epoch 12/50\n",
      "20/20 [==============================] - 1s 31ms/step - loss: 0.1313 - accuracy: 0.9492\n",
      "Epoch 13/50\n",
      "20/20 [==============================] - 1s 30ms/step - loss: 0.1432 - accuracy: 0.9407\n",
      "Epoch 14/50\n",
      "20/20 [==============================] - 1s 30ms/step - loss: 0.1999 - accuracy: 0.9068\n",
      "Epoch 15/50\n",
      "20/20 [==============================] - 1s 30ms/step - loss: 0.1278 - accuracy: 0.9407\n",
      "Epoch 16/50\n",
      "20/20 [==============================] - 1s 29ms/step - loss: 0.2158 - accuracy: 0.9237\n",
      "Epoch 17/50\n",
      "20/20 [==============================] - 1s 30ms/step - loss: 0.1507 - accuracy: 0.9661\n",
      "Epoch 18/50\n",
      "20/20 [==============================] - 1s 31ms/step - loss: 0.1208 - accuracy: 0.9322\n",
      "Epoch 19/50\n",
      "20/20 [==============================] - 1s 31ms/step - loss: 0.0856 - accuracy: 0.9569\n",
      "Epoch 20/50\n",
      "20/20 [==============================] - 1s 33ms/step - loss: 0.0758 - accuracy: 0.9492\n",
      "Epoch 21/50\n",
      "20/20 [==============================] - 1s 33ms/step - loss: 0.0406 - accuracy: 0.9746\n",
      "Epoch 22/50\n",
      "20/20 [==============================] - 1s 29ms/step - loss: 0.0477 - accuracy: 0.9831\n",
      "Epoch 23/50\n",
      "20/20 [==============================] - 1s 29ms/step - loss: 0.0544 - accuracy: 0.9915\n",
      "Epoch 24/50\n",
      "20/20 [==============================] - 1s 30ms/step - loss: 0.0449 - accuracy: 0.9831\n",
      "Epoch 25/50\n",
      "20/20 [==============================] - 1s 29ms/step - loss: 0.0367 - accuracy: 1.0000\n",
      "Epoch 26/50\n",
      "20/20 [==============================] - 1s 28ms/step - loss: 0.0427 - accuracy: 0.9915\n",
      "Epoch 27/50\n",
      "20/20 [==============================] - 1s 29ms/step - loss: 0.0302 - accuracy: 1.0000\n",
      "Epoch 28/50\n",
      "20/20 [==============================] - 1s 28ms/step - loss: 0.0328 - accuracy: 0.9915\n",
      "Epoch 29/50\n",
      "20/20 [==============================] - 1s 32ms/step - loss: 0.0396 - accuracy: 1.0000\n",
      "Epoch 30/50\n",
      "20/20 [==============================] - 1s 30ms/step - loss: 0.0610 - accuracy: 0.9831\n",
      "Epoch 31/50\n",
      "20/20 [==============================] - 1s 29ms/step - loss: 0.0359 - accuracy: 0.9831\n",
      "Epoch 32/50\n",
      "20/20 [==============================] - 1s 33ms/step - loss: 0.0443 - accuracy: 0.9831\n",
      "Epoch 33/50\n",
      "20/20 [==============================] - 1s 31ms/step - loss: 0.0135 - accuracy: 1.0000\n",
      "Epoch 34/50\n",
      "20/20 [==============================] - 1s 28ms/step - loss: 0.0130 - accuracy: 1.0000\n",
      "Epoch 35/50\n",
      "20/20 [==============================] - 1s 28ms/step - loss: 0.0461 - accuracy: 0.9661\n",
      "Epoch 36/50\n",
      "20/20 [==============================] - 1s 29ms/step - loss: 0.0316 - accuracy: 0.9915\n",
      "Epoch 37/50\n",
      "20/20 [==============================] - 1s 31ms/step - loss: 0.0382 - accuracy: 1.0000\n",
      "Epoch 38/50\n",
      "20/20 [==============================] - 1s 28ms/step - loss: 0.0699 - accuracy: 0.9914\n",
      "Epoch 39/50\n",
      "20/20 [==============================] - 1s 30ms/step - loss: 0.1041 - accuracy: 0.9746\n",
      "Epoch 40/50\n",
      "20/20 [==============================] - 1s 29ms/step - loss: 0.0488 - accuracy: 0.9831\n",
      "Epoch 41/50\n",
      "20/20 [==============================] - 1s 37ms/step - loss: 0.0233 - accuracy: 0.9915\n",
      "Epoch 42/50\n",
      "20/20 [==============================] - 1s 35ms/step - loss: 0.1376 - accuracy: 0.9661\n",
      "Epoch 43/50\n",
      "20/20 [==============================] - 1s 32ms/step - loss: 0.1196 - accuracy: 0.9661\n",
      "Epoch 44/50\n",
      "20/20 [==============================] - 1s 31ms/step - loss: 0.0623 - accuracy: 0.9746\n",
      "Epoch 45/50\n",
      "20/20 [==============================] - 1s 32ms/step - loss: 0.0736 - accuracy: 0.9831\n",
      "Epoch 46/50\n",
      "20/20 [==============================] - 1s 33ms/step - loss: 0.0887 - accuracy: 0.9746\n",
      "Epoch 47/50\n",
      "20/20 [==============================] - 1s 36ms/step - loss: 0.0982 - accuracy: 0.9831\n",
      "Epoch 48/50\n",
      " 9/20 [============>.................] - ETA: 0s - loss: 0.1216 - accuracy: 0.9630WARNING:tensorflow:Your input ran out of data; interrupting training. Make sure that your dataset or generator can generate at least `steps_per_epoch * epochs` batches (in this case, 1000 batches). You may need to use the repeat() function when building your dataset.\n",
      "20/20 [==============================] - 0s 20ms/step - loss: 0.1580 - accuracy: 0.9483\n"
     ]
    }
   ],
   "source": [
    "# Destroys the current TF graph and creates a new one. Useful to avoid clutter from old models / layers\n",
    "K.clear_session()\n",
    "# Set learning phase from our model to training\n",
    "K.set_learning_phase(1)\n",
    "\n",
    "# Create our Modified LeNet-5 model\n",
    "model = Sequential()\n",
    "\n",
    "# Add blocks of convolutional layers followed by batch normalization and pooling\n",
    "model.add(Conv2D(filters, kernel_size, activation='relu', input_shape=data_shape))\n",
    "model.add(BatchNormalization())\n",
    "model.add(MaxPooling2D())\n",
    "\n",
    "model.add(Conv2D(filters * 2, kernel_size, activation='relu'))\n",
    "model.add(BatchNormalization())\n",
    "model.add(MaxPooling2D())\n",
    "\n",
    "model.add(Conv2D(filters * 4, kernel_size, activation='relu'))\n",
    "model.add(BatchNormalization())\n",
    "model.add(MaxPooling2D())\n",
    "\n",
    "# Reshape the tensor to have the shape that is equal to the number of elements contained \n",
    "# in tensor non including the batch dimension\n",
    "model.add(Flatten())\n",
    "\n",
    "# Add the fully connected layer followed by a dropout of 50%\n",
    "model.add(Dense(64, activation='relu'))\n",
    "model.add(Dropout(0.5))\n",
    "\n",
    "# We finally add the softmax classifier to our model\n",
    "model.add(Dense(n_classes, kernel_regularizer=l2(0.001), activation='linear'))\n",
    "\n",
    "# Define the learning rate to our optimizer and which optimizer we will use\n",
    "from keras import optimizers\n",
    "learning_rate = 1e-5\n",
    "opt = tf.keras.optimizers.Adam(learning_rate=learning_rate)\n",
    "\n",
    "# Here we configure the loss and metrics of our model\n",
    "model.compile(optimizer=\"adam\",\n",
    "              loss='hinge',\n",
    "              metrics=['accuracy'])\n",
    "\n",
    "model.summary()\n",
    "history = model.fit(X_train, y_train, validation_data=(X_val, y_val),\n",
    "              epochs = 50,\n",
    "              steps_per_epoch= 20,\n",
    "              validation_steps= 10,\n",
    "              verbose = 1)"
   ]
  },
  {
   "cell_type": "code",
   "execution_count": 18,
   "id": "971505e0",
   "metadata": {},
   "outputs": [
    {
     "name": "stdout",
     "output_type": "stream",
     "text": [
      "1/1 [==============================] - 0s 91ms/step - loss: 0.0832 - accuracy: 0.9583\n"
     ]
    },
    {
     "data": {
      "text/plain": [
       "[0.08323036879301071, 0.9583333134651184]"
      ]
     },
     "execution_count": 18,
     "metadata": {},
     "output_type": "execute_result"
    }
   ],
   "source": [
    "model.evaluate(X_test, y_test)"
   ]
  },
  {
   "cell_type": "code",
   "execution_count": 16,
   "id": "3a6eb161",
   "metadata": {},
   "outputs": [
    {
     "name": "stderr",
     "output_type": "stream",
     "text": [
      "WARNING:absl:Found untraced functions such as _jit_compiled_convolution_op, _jit_compiled_convolution_op, _jit_compiled_convolution_op while saving (showing 3 of 3). These functions will not be directly callable after loading.\n"
     ]
    },
    {
     "name": "stdout",
     "output_type": "stream",
     "text": [
      "INFO:tensorflow:Assets written to: ram://e4df8de2-006e-4833-a8d4-6c19d99087e0/assets\n"
     ]
    },
    {
     "name": "stderr",
     "output_type": "stream",
     "text": [
      "INFO:tensorflow:Assets written to: ram://e4df8de2-006e-4833-a8d4-6c19d99087e0/assets\n"
     ]
    }
   ],
   "source": [
    "import pickle\n",
    "# save the model to disk\n",
    "filename = 'morphosem_model1.sav'\n",
    "pickle.dump(model, open(filename, 'wb'))"
   ]
  },
  {
   "cell_type": "code",
   "execution_count": 19,
   "id": "9025c740",
   "metadata": {},
   "outputs": [],
   "source": [
    "model.save_weights('morphosem_model1.h5')"
   ]
  },
  {
   "cell_type": "code",
   "execution_count": null,
   "id": "410a9152",
   "metadata": {},
   "outputs": [],
   "source": [
    "# model.load_weights('morphosem_model1.h5')\n",
    "# from tensorflow.keras.models import load_model\n",
    "# model = load_model('morphosem_model1.h5')"
   ]
  },
  {
   "cell_type": "code",
   "execution_count": 20,
   "id": "c96b6b69",
   "metadata": {},
   "outputs": [
    {
     "name": "stdout",
     "output_type": "stream",
     "text": [
      "1/1 [==============================] - 0s 190ms/step\n"
     ]
    },
    {
     "data": {
      "text/plain": [
       "array([[ -8.194556  ,  11.229657  ],\n",
       "       [ -2.055905  ,   2.1953106 ],\n",
       "       [ -9.056332  ,  12.459509  ],\n",
       "       [ -1.4465307 ,   1.576105  ],\n",
       "       [-13.959557  ,  17.93785   ],\n",
       "       [-12.284632  ,  15.966695  ],\n",
       "       [ -4.805993  ,   4.976292  ],\n",
       "       [ -7.240904  ,   9.272649  ],\n",
       "       [ -9.594262  ,  13.988115  ],\n",
       "       [-14.628973  ,  18.826336  ],\n",
       "       [ -3.8482466 ,   5.700336  ],\n",
       "       [ -9.520105  ,  13.2510195 ],\n",
       "       [  7.4008484 ,  -6.3263245 ],\n",
       "       [ -0.05760518,   1.8123115 ],\n",
       "       [ 15.403191  , -17.181334  ],\n",
       "       [  4.9693513 ,  -7.157485  ],\n",
       "       [ 25.015501  , -26.957458  ],\n",
       "       [ 23.109734  , -29.965443  ],\n",
       "       [  6.1606574 ,  -5.4445167 ],\n",
       "       [  8.387509  ,  -9.698412  ],\n",
       "       [  5.756733  ,  -7.1659374 ],\n",
       "       [  5.0631666 ,  -4.565008  ],\n",
       "       [ 22.59951   , -22.5354    ],\n",
       "       [  7.2582593 ,  -8.936911  ]], dtype=float32)"
      ]
     },
     "execution_count": 20,
     "metadata": {},
     "output_type": "execute_result"
    }
   ],
   "source": [
    "# Analyze prediction values\n",
    "predicted = model.predict(X_test)\n",
    "predicted[:,:]"
   ]
  },
  {
   "cell_type": "code",
   "execution_count": 21,
   "id": "755f1417",
   "metadata": {},
   "outputs": [
    {
     "name": "stdout",
     "output_type": "stream",
     "text": [
      "1/1 [==============================] - 0s 47ms/step\n",
      "              precision    recall  f1-score   support\n",
      "\n",
      "           0       1.00      0.92      0.96        12\n",
      "           1       0.92      1.00      0.96        12\n",
      "\n",
      "    accuracy                           0.96        24\n",
      "   macro avg       0.96      0.96      0.96        24\n",
      "weighted avg       0.96      0.96      0.96        24\n",
      "\n"
     ]
    }
   ],
   "source": [
    "# Import confusion matrix and classification report from scikit-learn\n",
    "from sklearn.metrics import confusion_matrix, classification_report\n",
    "Y_prediction = model.predict(X_test)\n",
    "# Convert predictions classes to one hot vectors \n",
    "Y_pred_classes = np.argmax(predicted,axis = 1) \n",
    "# compute the confusion matrix\n",
    "confusion_mtx = confusion_matrix(target[indexes_test], Y_pred_classes) \n",
    "print(classification_report(target[indexes_test], Y_pred_classes))"
   ]
  },
  {
   "cell_type": "code",
   "execution_count": 22,
   "id": "d75ab1c6",
   "metadata": {},
   "outputs": [
    {
     "data": {
      "image/png": "[encoded data removed]",
      "text/plain": [
       "<Figure size 1000x800 with 2 Axes>"
      ]
     },
     "metadata": {},
     "output_type": "display_data"
    }
   ],
   "source": [
    "# Plot confusion matrix\n",
    "plt.figure(figsize=(10,8))\n",
    "sns.heatmap(confusion_mtx, annot=True, fmt=\"d\");"
   ]
  },
  {
   "cell_type": "code",
   "execution_count": 23,
   "id": "2066cb99",
   "metadata": {},
   "outputs": [
    {
     "data": {
      "image/png": "[encoded data removed]",
      "text/plain": [
       "<Figure size 640x480 with 1 Axes>"
      ]
     },
     "metadata": {},
     "output_type": "display_data"
    }
   ],
   "source": [
    "from sklearn import metrics\n",
    "\n",
    "fpr, tpr, thresholds = metrics.roc_curve(np.argmax(y_test, axis =1), np.argmax(predicted, axis =1), pos_label=1)\n",
    "roc_auc = metrics.auc(fpr, tpr)\n",
    "\n",
    "lw = 2\n",
    "plt.figure()\n",
    "plt.plot([0, 1], [0, 1], color='navy', lw=lw, linestyle='--', alpha=0.15)\n",
    "plt.plot(fpr, tpr, lw=lw, label=f'ROC curve (area = {roc_auc: 0.2f})')\n",
    "\n",
    "plt.xlabel('False Positive Rate')\n",
    "plt.ylabel('True Positive Rate')\n",
    "plt.title(f'Receiver Operating Characteristic')\n",
    "plt.legend(loc=\"lower right\")\n",
    "plt.show()"
   ]
  },
  {
   "cell_type": "code",
   "execution_count": null,
   "id": "3dc78be3",
   "metadata": {},
   "outputs": [],
   "source": []
  }
 ],
 "metadata": {
  "kernelspec": {
   "display_name": "Python 3 (ipykernel)",
   "language": "python",
   "name": "python3"
  },
  "language_info": {
   "codemirror_mode": {
    "name": "ipython",
    "version": 3
   },
   "file_extension": ".py",
   "mimetype": "text/x-python",
   "name": "python",
   "nbconvert_exporter": "python",
   "pygments_lexer": "ipython3",
   "version": "3.7.13"
  }
 },
 "nbformat": 4,
 "nbformat_minor": 5
}
