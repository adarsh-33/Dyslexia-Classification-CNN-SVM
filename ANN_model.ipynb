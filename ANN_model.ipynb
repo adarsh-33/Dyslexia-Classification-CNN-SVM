{
 "cells": [
  {
   "cell_type": "code",
   "execution_count": 1,
   "id": "2903f828",
   "metadata": {},
   "outputs": [],
   "source": [
    "# Import manipulating files libraries\n",
    "import os, glob\n",
    "os.environ[\"CUDA_DEVICE_ORDER\"] = \"PCI_BUS_ID\"   #if like me you do not have a lot of memory in your GPU\n",
    "os.environ[\"CUDA_VISIBLE_DEVICES\"] = \"\" #then these two lines force keras to use your CPU\n",
    "# Import graph/image plotting libraries\n",
    "import matplotlib.pyplot as plt\n",
    "import seaborn as sns\n",
    "sns.set(style=\"darkgrid\")\n",
    "\n",
    "# Import loading and manipulating neuroimaging data library\n",
    "import nibabel as nib\n",
    "\n",
    "# Import array manipulating libraries\n",
    "import numpy as np\n",
    "import pandas as pd\n",
    "\n",
    "# Import deep learning model libraries\n",
    "import tensorflow as tf\n",
    "import keras\n",
    "from keras.models import Model, Sequential\n",
    "\n",
    "from keras import backend as K\n",
    "from keras.callbacks import ModelCheckpoint\n",
    "from keras.models import load_model\n",
    "\n",
    "# Import date/time library to save models with date/time\n",
    "from datetime import datetime"
   ]
  },
  {
   "cell_type": "code",
   "execution_count": 2,
   "id": "0c892069",
   "metadata": {},
   "outputs": [],
   "source": [
    "# Get data path\n",
    "data_path = 'final data/*.nii.gz'\n",
    "# Find all files within the location that matches our search string\n",
    "files = glob.glob(data_path)\n",
    "\n",
    "# Get the labels for our data from our csv file\n",
    "Labels = pd.read_csv('labels.csv')\n",
    "# Define our target from the column \"Labels\" as our y in our model\n",
    "target = Labels['group']"
   ]
  },
  {
   "cell_type": "code",
   "execution_count": 3,
   "id": "fe759242",
   "metadata": {},
   "outputs": [
    {
     "name": "stdout",
     "output_type": "stream",
     "text": [
      "120\n",
      "(120, 64, 64, 34)\n"
     ]
    }
   ],
   "source": [
    "# Loop through files and load all data files\n",
    "data_all, images = [], []\n",
    "for data_file in sorted(files):\n",
    "    data = nib.load(data_file).get_fdata()\n",
    "    first_vol = data[:,:,:,0]\n",
    "    first = first_vol / 255\n",
    "    data_all.append(first)\n",
    "    \n",
    "# Convert our list into a numpy array\n",
    "images = np.asarray(data_all)\n",
    "\n",
    "print(len(data_all))\n",
    "print (np.shape(images))"
   ]
  },
  {
   "cell_type": "code",
   "execution_count": 4,
   "id": "2115f42a",
   "metadata": {},
   "outputs": [
    {
     "name": "stdout",
     "output_type": "stream",
     "text": [
      "[[[0.         0.         0.         ... 0.         0.         0.        ]\n",
      "  [0.         0.         0.         ... 0.         0.         0.        ]\n",
      "  [0.         0.         0.         ... 0.         0.         0.        ]\n",
      "  ...\n",
      "  [0.         0.         0.         ... 0.         0.         0.        ]\n",
      "  [0.         0.         0.         ... 0.         0.         0.        ]\n",
      "  [0.         0.         0.         ... 0.         0.         0.        ]]\n",
      "\n",
      " [[0.03921569 0.04705882 0.05098039 ... 0.03529412 0.04313725 0.03137255]\n",
      "  [0.03921569 0.03529412 0.05098039 ... 0.04313725 0.03529412 0.04313725]\n",
      "  [0.04705882 0.05098039 0.04313725 ... 0.05098039 0.03529412 0.04313725]\n",
      "  ...\n",
      "  [0.0745098  0.09411765 0.10196078 ... 0.05882353 0.05098039 0.05882353]\n",
      "  [0.08235294 0.06666667 0.09411765 ... 0.05098039 0.05098039 0.05490196]\n",
      "  [0.07058824 0.0745098  0.09019608 ... 0.05490196 0.05490196 0.05882353]]\n",
      "\n",
      " [[0.03921569 0.05098039 0.06666667 ... 0.05098039 0.03921569 0.03921569]\n",
      "  [0.04705882 0.05490196 0.05882353 ... 0.05098039 0.04705882 0.04313725]\n",
      "  [0.04705882 0.05098039 0.05098039 ... 0.04313725 0.04313725 0.04313725]\n",
      "  ...\n",
      "  [0.08627451 0.07058824 0.08627451 ... 0.05490196 0.06666667 0.05098039]\n",
      "  [0.07843137 0.09411765 0.07843137 ... 0.05882353 0.05098039 0.05882353]\n",
      "  [0.06666667 0.07058824 0.09019608 ... 0.05882353 0.05882353 0.05490196]]\n",
      "\n",
      " ...\n",
      "\n",
      " [[0.05098039 0.05490196 0.05490196 ... 0.02745098 0.03529412 0.03921569]\n",
      "  [0.04705882 0.05490196 0.04705882 ... 0.03137255 0.03137255 0.03137255]\n",
      "  [0.05490196 0.05882353 0.05490196 ... 0.03137255 0.03137255 0.01960784]\n",
      "  ...\n",
      "  [0.09411765 0.07843137 0.09411765 ... 0.05490196 0.0627451  0.05882353]\n",
      "  [0.08627451 0.0627451  0.09411765 ... 0.0627451  0.05882353 0.05490196]\n",
      "  [0.07058824 0.0745098  0.08235294 ... 0.0627451  0.05098039 0.0627451 ]]\n",
      "\n",
      " [[0.04705882 0.03921569 0.04313725 ... 0.03137255 0.03137255 0.03137255]\n",
      "  [0.05098039 0.05098039 0.04705882 ... 0.02352941 0.03137255 0.02745098]\n",
      "  [0.05098039 0.05098039 0.05882353 ... 0.03529412 0.03529412 0.02745098]\n",
      "  ...\n",
      "  [0.07843137 0.07843137 0.08627451 ... 0.04705882 0.05882353 0.05882353]\n",
      "  [0.07843137 0.09803922 0.08235294 ... 0.0627451  0.0627451  0.05490196]\n",
      "  [0.08627451 0.07058824 0.09803922 ... 0.0627451  0.05490196 0.0627451 ]]\n",
      "\n",
      " [[0.04705882 0.04705882 0.04313725 ... 0.03529412 0.02745098 0.03137255]\n",
      "  [0.05098039 0.04705882 0.05490196 ... 0.03529412 0.03137255 0.02352941]\n",
      "  [0.05882353 0.05098039 0.05490196 ... 0.03529412 0.02745098 0.03137255]\n",
      "  ...\n",
      "  [0.08235294 0.07058824 0.09803922 ... 0.06666667 0.07058824 0.05490196]\n",
      "  [0.07843137 0.08627451 0.0745098  ... 0.05882353 0.05882353 0.05490196]\n",
      "  [0.08235294 0.07843137 0.07058824 ... 0.05882353 0.05098039 0.05882353]]]\n"
     ]
    }
   ],
   "source": [
    "print(images[3])"
   ]
  },
  {
   "cell_type": "code",
   "execution_count": 5,
   "id": "f637a95c",
   "metadata": {},
   "outputs": [
    {
     "data": {
      "text/plain": [
       "<bound method NDFrame.head of 0      0\n",
       "1      0\n",
       "2      0\n",
       "3      0\n",
       "4      0\n",
       "      ..\n",
       "115    1\n",
       "116    1\n",
       "117    1\n",
       "118    1\n",
       "119    1\n",
       "Name: group, Length: 120, dtype: int64>"
      ]
     },
     "execution_count": 5,
     "metadata": {},
     "output_type": "execute_result"
    }
   ],
   "source": [
    "target.head"
   ]
  },
  {
   "cell_type": "code",
   "execution_count": 6,
   "id": "6fca8967",
   "metadata": {},
   "outputs": [
    {
     "name": "stdout",
     "output_type": "stream",
     "text": [
      "(84, 64, 64, 34) (18, 64, 64, 34) (18, 64, 64, 34)\n"
     ]
    }
   ],
   "source": [
    "# Create list of indices\n",
    "N = images.shape[0]\n",
    "indexes = np.arange(N)\n",
    "\n",
    "# Divide our dataset into dyslexics and controls to have a balanced train, validation and test sets\n",
    "dis = indexes[:60]\n",
    "con = indexes[60:]\n",
    "\n",
    "#  Cut the dataset at 80% to create the training, 10% validation and 10% test set\n",
    "size = dis.shape[0]\n",
    "split_1 = int(0.7 * size)\n",
    "split_2 = int(0.85 * size)\n",
    "\n",
    "# Shuffle our dyslexics and controls arrays to create random indexes\n",
    "np.random.shuffle(np.asarray(dis))\n",
    "np.random.shuffle(np.asarray(con))\n",
    "\n",
    "# Create our indexes for our train, validation and test sets according to our previous division (80%, 10%, 10%)\n",
    "indexes_train_dis, indexes_train_con = dis[:split_1], con[:split_1]\n",
    "indexes_val_dis, indexes_val_con   = dis[split_1:split_2], con[split_1:split_2]\n",
    "indexes_test_dis, indexes_test_con = dis[split_2:], con[split_2:]\n",
    "\n",
    "# We concatenate our training, validation and test indexes for dyslexics and controls\n",
    "# By doing that we ensure that each set is balanced with the same number of dyslexics and controls\n",
    "indexes_train = np.concatenate((indexes_train_dis, indexes_train_con), axis=None)\n",
    "indexes_val = np.concatenate((indexes_val_dis, indexes_val_con), axis=None)\n",
    "indexes_test = np.concatenate((indexes_test_dis, indexes_test_con), axis=None)\n",
    "\n",
    "\n",
    "# Split the data into training, validation and test sets according to the indexes created previously\n",
    "X_train = images[indexes_train, ...]\n",
    "X_val = images[indexes_val, ...]\n",
    "X_test = images[indexes_test, ...]\n",
    "print(X_train.shape, X_val.shape,X_test.shape)"
   ]
  },
  {
   "cell_type": "code",
   "execution_count": 7,
   "id": "15402b91",
   "metadata": {},
   "outputs": [
    {
     "name": "stdout",
     "output_type": "stream",
     "text": [
      "(42,) (42,)\n",
      "(9,) (9,)\n",
      "(9,) (9,)\n"
     ]
    }
   ],
   "source": [
    "print(indexes_train_dis.shape, indexes_train_con.shape)\n",
    "print(indexes_val_dis.shape, indexes_val_con.shape)\n",
    "print(indexes_test_dis.shape, indexes_test_con.shape)"
   ]
  },
  {
   "cell_type": "code",
   "execution_count": 8,
   "id": "87cb937d",
   "metadata": {},
   "outputs": [
    {
     "name": "stdout",
     "output_type": "stream",
     "text": [
      "(84, 64, 64, 34)\n",
      "(18, 64, 64, 34)\n",
      "(18, 64, 64, 34)\n",
      "(84,)\n",
      "(18,)\n",
      "(18,)\n"
     ]
    }
   ],
   "source": [
    "# Create outcome variable for each set (training, validation and test)\n",
    "y_train = target[indexes_train] \n",
    "y_val   = target[indexes_val]\n",
    "y_test  = target[indexes_test]\n",
    "print(X_train.shape)\n",
    "print(X_val.shape)\n",
    "print(X_test.shape)\n",
    "print(y_train.shape)\n",
    "print(y_val.shape)\n",
    "print(y_test.shape)"
   ]
  },
  {
   "cell_type": "code",
   "execution_count": 9,
   "id": "f600a15e",
   "metadata": {},
   "outputs": [],
   "source": [
    "# Our vectorized labels\n",
    "y_train = np.asarray(y_train).astype('int32')\n",
    "y_test = np.asarray(y_test).astype('int32')\n",
    "y_val = np.asarray(y_val).astype('int32')"
   ]
  },
  {
   "cell_type": "code",
   "execution_count": 10,
   "id": "f6362692",
   "metadata": {},
   "outputs": [
    {
     "name": "stdout",
     "output_type": "stream",
     "text": [
      "tf.Tensor(\n",
      "[[1. 0.]\n",
      " [1. 0.]\n",
      " [1. 0.]\n",
      " [1. 0.]\n",
      " [1. 0.]\n",
      " [1. 0.]\n",
      " [1. 0.]\n",
      " [1. 0.]\n",
      " [1. 0.]\n",
      " [0. 1.]\n",
      " [0. 1.]\n",
      " [0. 1.]\n",
      " [0. 1.]\n",
      " [0. 1.]\n",
      " [0. 1.]\n",
      " [0. 1.]\n",
      " [0. 1.]\n",
      " [0. 1.]], shape=(18, 2), dtype=float32)\n"
     ]
    }
   ],
   "source": [
    "y_train = tf.one_hot(y_train, 2)\n",
    "y_test = tf.one_hot(y_test, 2)\n",
    "y_val = tf.one_hot(y_val, 2)\n",
    "print(y_val) "
   ]
  },
  {
   "cell_type": "code",
   "execution_count": 11,
   "id": "834f2152",
   "metadata": {},
   "outputs": [
    {
     "name": "stdout",
     "output_type": "stream",
     "text": [
      "(84, 139264)\n",
      "(18, 139264)\n",
      "(18, 139264)\n"
     ]
    }
   ],
   "source": [
    "x_train = X_train.reshape(len(X_train), -1)\n",
    "print(x_train.shape)\n",
    "x_test = X_test.reshape(len(X_test), -1)\n",
    "print(x_test.shape)\n",
    "x_val = X_val.reshape(len(X_val), -1)\n",
    "print(x_val.shape)"
   ]
  },
  {
   "cell_type": "code",
   "execution_count": 12,
   "id": "2bf861ad",
   "metadata": {},
   "outputs": [
    {
     "data": {
      "text/plain": [
       "<tf.Tensor: shape=(84, 2), dtype=float32, numpy=\n",
       "array([[1., 0.],\n",
       "       [1., 0.],\n",
       "       [1., 0.],\n",
       "       [1., 0.],\n",
       "       [1., 0.],\n",
       "       [1., 0.],\n",
       "       [1., 0.],\n",
       "       [1., 0.],\n",
       "       [1., 0.],\n",
       "       [1., 0.],\n",
       "       [1., 0.],\n",
       "       [1., 0.],\n",
       "       [1., 0.],\n",
       "       [1., 0.],\n",
       "       [1., 0.],\n",
       "       [1., 0.],\n",
       "       [1., 0.],\n",
       "       [1., 0.],\n",
       "       [1., 0.],\n",
       "       [1., 0.],\n",
       "       [1., 0.],\n",
       "       [1., 0.],\n",
       "       [1., 0.],\n",
       "       [1., 0.],\n",
       "       [1., 0.],\n",
       "       [1., 0.],\n",
       "       [1., 0.],\n",
       "       [1., 0.],\n",
       "       [1., 0.],\n",
       "       [1., 0.],\n",
       "       [1., 0.],\n",
       "       [1., 0.],\n",
       "       [1., 0.],\n",
       "       [1., 0.],\n",
       "       [1., 0.],\n",
       "       [1., 0.],\n",
       "       [1., 0.],\n",
       "       [1., 0.],\n",
       "       [1., 0.],\n",
       "       [1., 0.],\n",
       "       [1., 0.],\n",
       "       [1., 0.],\n",
       "       [0., 1.],\n",
       "       [0., 1.],\n",
       "       [0., 1.],\n",
       "       [0., 1.],\n",
       "       [0., 1.],\n",
       "       [0., 1.],\n",
       "       [0., 1.],\n",
       "       [0., 1.],\n",
       "       [0., 1.],\n",
       "       [0., 1.],\n",
       "       [0., 1.],\n",
       "       [0., 1.],\n",
       "       [0., 1.],\n",
       "       [0., 1.],\n",
       "       [0., 1.],\n",
       "       [0., 1.],\n",
       "       [0., 1.],\n",
       "       [0., 1.],\n",
       "       [0., 1.],\n",
       "       [0., 1.],\n",
       "       [0., 1.],\n",
       "       [0., 1.],\n",
       "       [0., 1.],\n",
       "       [0., 1.],\n",
       "       [0., 1.],\n",
       "       [0., 1.],\n",
       "       [0., 1.],\n",
       "       [0., 1.],\n",
       "       [0., 1.],\n",
       "       [0., 1.],\n",
       "       [0., 1.],\n",
       "       [0., 1.],\n",
       "       [0., 1.],\n",
       "       [0., 1.],\n",
       "       [0., 1.],\n",
       "       [0., 1.],\n",
       "       [0., 1.],\n",
       "       [0., 1.],\n",
       "       [0., 1.],\n",
       "       [0., 1.],\n",
       "       [0., 1.],\n",
       "       [0., 1.]], dtype=float32)>"
      ]
     },
     "execution_count": 12,
     "metadata": {},
     "output_type": "execute_result"
    }
   ],
   "source": [
    "y_train"
   ]
  },
  {
   "cell_type": "code",
   "execution_count": 13,
   "id": "c4fc1b72",
   "metadata": {},
   "outputs": [],
   "source": [
    "from sklearn.preprocessing import StandardScaler\n",
    "\n",
    "sc = StandardScaler()\n",
    "x_train1 = sc.fit_transform(x_train)\n",
    "x_test1 = sc.transform(x_test)\n",
    "x_val1 = sc.transform(x_val)"
   ]
  },
  {
   "cell_type": "code",
   "execution_count": 14,
   "id": "2aa21d6b",
   "metadata": {},
   "outputs": [
    {
     "data": {
      "text/plain": [
       "(84, 79)"
      ]
     },
     "execution_count": 14,
     "metadata": {},
     "output_type": "execute_result"
    }
   ],
   "source": [
    "from sklearn.decomposition import PCA\n",
    "\n",
    "pca = PCA(0.99)\n",
    "x_train1 = pca.fit_transform(x_train1)\n",
    "x_test1 = pca.transform(x_test1)\n",
    "x_val1 = pca.transform(x_val1)\n",
    "x_train1.shape"
   ]
  },
  {
   "cell_type": "code",
   "execution_count": 15,
   "id": "34876d95",
   "metadata": {},
   "outputs": [
    {
     "name": "stdout",
     "output_type": "stream",
     "text": [
      "Model: \"sequential\"\n",
      "_________________________________________________________________\n",
      " Layer (type)                Output Shape              Param #   \n",
      "=================================================================\n",
      " flatten (Flatten)           (None, 79)                0         \n",
      "                                                                 \n",
      " dense (Dense)               (None, 500)               40000     \n",
      "                                                                 \n",
      " dropout (Dropout)           (None, 500)               0         \n",
      "                                                                 \n",
      " dense_1 (Dense)             (None, 500)               250500    \n",
      "                                                                 \n",
      " dropout_1 (Dropout)         (None, 500)               0         \n",
      "                                                                 \n",
      " dense_2 (Dense)             (None, 500)               250500    \n",
      "                                                                 \n",
      " dropout_2 (Dropout)         (None, 500)               0         \n",
      "                                                                 \n",
      " dense_3 (Dense)             (None, 2)                 1002      \n",
      "                                                                 \n",
      "=================================================================\n",
      "Total params: 542,002\n",
      "Trainable params: 542,002\n",
      "Non-trainable params: 0\n",
      "_________________________________________________________________\n",
      "Epoch 1/100\n",
      "7/7 [==============================] - 2s 120ms/step - loss: 2.1645 - accuracy: 0.5833 - val_loss: 1.6442 - val_accuracy: 0.5556\n",
      "Epoch 2/100\n",
      "7/7 [==============================] - 0s 18ms/step - loss: 2.0276 - accuracy: 0.5833 - val_loss: 0.8422 - val_accuracy: 0.7222\n",
      "Epoch 3/100\n",
      "7/7 [==============================] - 0s 18ms/step - loss: 1.3384 - accuracy: 0.7857 - val_loss: 0.3845 - val_accuracy: 0.8889\n",
      "Epoch 4/100\n",
      "7/7 [==============================] - 0s 18ms/step - loss: 0.9408 - accuracy: 0.8333 - val_loss: 0.2329 - val_accuracy: 0.8889\n",
      "Epoch 5/100\n",
      "7/7 [==============================] - 0s 15ms/step - loss: 0.4393 - accuracy: 0.9167 - val_loss: 0.1587 - val_accuracy: 0.9444\n",
      "Epoch 6/100\n",
      "7/7 [==============================] - 0s 18ms/step - loss: 0.4211 - accuracy: 0.9405 - val_loss: 0.1872 - val_accuracy: 0.8889\n",
      "Epoch 7/100\n",
      "7/7 [==============================] - 0s 19ms/step - loss: 0.2217 - accuracy: 0.9286 - val_loss: 0.1908 - val_accuracy: 0.9444\n",
      "Epoch 8/100\n",
      "7/7 [==============================] - 0s 18ms/step - loss: 0.1167 - accuracy: 0.9762 - val_loss: 0.2702 - val_accuracy: 0.8889\n",
      "Epoch 9/100\n",
      "7/7 [==============================] - 0s 18ms/step - loss: 0.0266 - accuracy: 1.0000 - val_loss: 0.3258 - val_accuracy: 0.8889\n",
      "Epoch 10/100\n",
      "7/7 [==============================] - 0s 18ms/step - loss: 0.0498 - accuracy: 0.9881 - val_loss: 0.2980 - val_accuracy: 0.8889\n",
      "Epoch 11/100\n",
      "7/7 [==============================] - 0s 16ms/step - loss: 0.0053 - accuracy: 1.0000 - val_loss: 0.3725 - val_accuracy: 0.8889\n",
      "Epoch 12/100\n",
      "7/7 [==============================] - 0s 18ms/step - loss: 0.0425 - accuracy: 0.9881 - val_loss: 0.3269 - val_accuracy: 0.9444\n",
      "Epoch 13/100\n",
      "7/7 [==============================] - 0s 18ms/step - loss: 0.0487 - accuracy: 0.9881 - val_loss: 0.3708 - val_accuracy: 0.8889\n",
      "Epoch 14/100\n",
      "7/7 [==============================] - 0s 18ms/step - loss: 0.0547 - accuracy: 0.9881 - val_loss: 0.4278 - val_accuracy: 0.8889\n",
      "Epoch 15/100\n",
      "7/7 [==============================] - 0s 15ms/step - loss: 0.0303 - accuracy: 0.9881 - val_loss: 0.3431 - val_accuracy: 0.9444\n",
      "Epoch 16/100\n",
      "7/7 [==============================] - 0s 17ms/step - loss: 0.0052 - accuracy: 1.0000 - val_loss: 0.3101 - val_accuracy: 0.9444\n",
      "Epoch 17/100\n",
      "7/7 [==============================] - 0s 17ms/step - loss: 0.0647 - accuracy: 0.9881 - val_loss: 0.3262 - val_accuracy: 0.9444\n",
      "Epoch 18/100\n",
      "7/7 [==============================] - 0s 18ms/step - loss: 0.1406 - accuracy: 0.9762 - val_loss: 0.3620 - val_accuracy: 0.9444\n",
      "Epoch 19/100\n",
      "7/7 [==============================] - 0s 16ms/step - loss: 0.0080 - accuracy: 1.0000 - val_loss: 0.3179 - val_accuracy: 0.9444\n",
      "Epoch 20/100\n",
      "7/7 [==============================] - 0s 15ms/step - loss: 4.1347e-04 - accuracy: 1.0000 - val_loss: 0.2893 - val_accuracy: 0.9444\n",
      "Epoch 21/100\n",
      "7/7 [==============================] - 0s 18ms/step - loss: 0.0365 - accuracy: 0.9881 - val_loss: 0.2889 - val_accuracy: 0.9444\n",
      "Epoch 22/100\n",
      "7/7 [==============================] - 0s 18ms/step - loss: 0.0145 - accuracy: 1.0000 - val_loss: 0.3155 - val_accuracy: 0.9444\n",
      "Epoch 23/100\n",
      "7/7 [==============================] - 0s 18ms/step - loss: 0.0019 - accuracy: 1.0000 - val_loss: 0.3328 - val_accuracy: 0.9444\n",
      "Epoch 24/100\n",
      "7/7 [==============================] - 0s 18ms/step - loss: 0.0018 - accuracy: 1.0000 - val_loss: 0.3471 - val_accuracy: 0.9444\n",
      "Epoch 25/100\n",
      "7/7 [==============================] - 0s 18ms/step - loss: 0.0049 - accuracy: 1.0000 - val_loss: 0.3413 - val_accuracy: 0.9444\n",
      "Epoch 26/100\n",
      "7/7 [==============================] - 0s 18ms/step - loss: 2.8081e-04 - accuracy: 1.0000 - val_loss: 0.3292 - val_accuracy: 0.9444\n",
      "Epoch 27/100\n",
      "7/7 [==============================] - 0s 18ms/step - loss: 0.0065 - accuracy: 1.0000 - val_loss: 0.3154 - val_accuracy: 0.9444\n",
      "Epoch 28/100\n",
      "7/7 [==============================] - 0s 18ms/step - loss: 2.7190e-04 - accuracy: 1.0000 - val_loss: 0.3057 - val_accuracy: 0.9444\n",
      "Epoch 29/100\n",
      "7/7 [==============================] - 0s 18ms/step - loss: 1.0050e-04 - accuracy: 1.0000 - val_loss: 0.3024 - val_accuracy: 0.9444\n",
      "Epoch 30/100\n",
      "7/7 [==============================] - 0s 18ms/step - loss: 0.0037 - accuracy: 1.0000 - val_loss: 0.3045 - val_accuracy: 0.9444\n",
      "Epoch 31/100\n",
      "7/7 [==============================] - 0s 17ms/step - loss: 1.3060e-04 - accuracy: 1.0000 - val_loss: 0.3112 - val_accuracy: 0.9444\n",
      "Epoch 32/100\n",
      "7/7 [==============================] - 0s 16ms/step - loss: 0.0269 - accuracy: 0.9762 - val_loss: 0.3447 - val_accuracy: 0.9444\n",
      "Epoch 33/100\n",
      "7/7 [==============================] - 0s 17ms/step - loss: 0.0048 - accuracy: 1.0000 - val_loss: 0.3999 - val_accuracy: 0.8889\n",
      "Epoch 34/100\n",
      "7/7 [==============================] - 0s 16ms/step - loss: 0.0498 - accuracy: 0.9762 - val_loss: 0.2282 - val_accuracy: 0.9444\n",
      "Epoch 35/100\n",
      "7/7 [==============================] - 0s 17ms/step - loss: 2.4968e-07 - accuracy: 1.0000 - val_loss: 0.1738 - val_accuracy: 0.8889\n",
      "Epoch 36/100\n",
      "7/7 [==============================] - 0s 16ms/step - loss: 1.5545e-04 - accuracy: 1.0000 - val_loss: 0.1662 - val_accuracy: 0.8889\n",
      "Epoch 37/100\n",
      "7/7 [==============================] - 0s 18ms/step - loss: 0.0082 - accuracy: 1.0000 - val_loss: 0.1699 - val_accuracy: 0.8889\n",
      "Epoch 38/100\n",
      "7/7 [==============================] - 0s 16ms/step - loss: 0.0105 - accuracy: 1.0000 - val_loss: 0.1845 - val_accuracy: 0.8889\n",
      "Epoch 39/100\n",
      "7/7 [==============================] - 0s 18ms/step - loss: 5.0201e-04 - accuracy: 1.0000 - val_loss: 0.1951 - val_accuracy: 0.8889\n",
      "Epoch 40/100\n",
      "7/7 [==============================] - 0s 18ms/step - loss: 0.0113 - accuracy: 1.0000 - val_loss: 0.1982 - val_accuracy: 0.8889\n",
      "Epoch 41/100\n",
      "7/7 [==============================] - 0s 18ms/step - loss: 6.7802e-04 - accuracy: 1.0000 - val_loss: 0.2090 - val_accuracy: 0.9444\n",
      "Epoch 42/100\n",
      "7/7 [==============================] - 0s 16ms/step - loss: 1.2226e-04 - accuracy: 1.0000 - val_loss: 0.2209 - val_accuracy: 0.9444\n",
      "Epoch 43/100\n",
      "7/7 [==============================] - 0s 18ms/step - loss: 3.5918e-05 - accuracy: 1.0000 - val_loss: 0.2274 - val_accuracy: 0.9444\n",
      "Epoch 44/100\n",
      "7/7 [==============================] - 0s 16ms/step - loss: 0.0261 - accuracy: 0.9881 - val_loss: 0.1862 - val_accuracy: 0.8889\n",
      "Epoch 45/100\n",
      "7/7 [==============================] - 0s 16ms/step - loss: 7.1257e-06 - accuracy: 1.0000 - val_loss: 0.2186 - val_accuracy: 0.9444\n",
      "Epoch 46/100\n",
      "7/7 [==============================] - 0s 18ms/step - loss: 9.7005e-05 - accuracy: 1.0000 - val_loss: 0.2483 - val_accuracy: 0.9444\n",
      "Epoch 47/100\n",
      "7/7 [==============================] - 0s 18ms/step - loss: 0.0113 - accuracy: 1.0000 - val_loss: 0.2054 - val_accuracy: 0.9444\n",
      "Epoch 48/100\n",
      "7/7 [==============================] - 0s 16ms/step - loss: 4.7379e-05 - accuracy: 1.0000 - val_loss: 0.1672 - val_accuracy: 0.8889\n",
      "Epoch 49/100\n",
      "7/7 [==============================] - 0s 18ms/step - loss: 0.0041 - accuracy: 1.0000 - val_loss: 0.1911 - val_accuracy: 0.9444\n",
      "Epoch 50/100\n",
      "7/7 [==============================] - 0s 15ms/step - loss: 5.7229e-05 - accuracy: 1.0000 - val_loss: 0.2244 - val_accuracy: 0.9444\n",
      "Epoch 51/100\n",
      "7/7 [==============================] - 0s 18ms/step - loss: 1.9395e-07 - accuracy: 1.0000 - val_loss: 0.2446 - val_accuracy: 0.9444\n",
      "Epoch 52/100\n",
      "7/7 [==============================] - 0s 18ms/step - loss: 0.0326 - accuracy: 0.9881 - val_loss: 0.3320 - val_accuracy: 0.9444\n",
      "Epoch 53/100\n",
      "7/7 [==============================] - 0s 18ms/step - loss: 6.0622e-05 - accuracy: 1.0000 - val_loss: 0.4563 - val_accuracy: 0.9444\n",
      "Epoch 54/100\n",
      "7/7 [==============================] - 0s 18ms/step - loss: 0.0090 - accuracy: 1.0000 - val_loss: 0.4981 - val_accuracy: 0.9444\n",
      "Epoch 55/100\n",
      "7/7 [==============================] - 0s 16ms/step - loss: 0.1403 - accuracy: 0.9881 - val_loss: 0.4578 - val_accuracy: 0.9444\n",
      "Epoch 56/100\n",
      "7/7 [==============================] - 0s 19ms/step - loss: 1.9782e-07 - accuracy: 1.0000 - val_loss: 0.4122 - val_accuracy: 0.9444\n",
      "Epoch 57/100\n",
      "7/7 [==============================] - 0s 14ms/step - loss: 0.0656 - accuracy: 0.9881 - val_loss: 0.4693 - val_accuracy: 0.9444\n",
      "Epoch 58/100\n",
      "7/7 [==============================] - 0s 13ms/step - loss: 1.1285e-05 - accuracy: 1.0000 - val_loss: 0.5057 - val_accuracy: 0.9444\n",
      "Epoch 59/100\n",
      "7/7 [==============================] - 0s 12ms/step - loss: 3.6332e-04 - accuracy: 1.0000 - val_loss: 0.5208 - val_accuracy: 0.9444\n",
      "Epoch 60/100\n",
      "7/7 [==============================] - 0s 15ms/step - loss: 6.3877e-04 - accuracy: 1.0000 - val_loss: 0.5364 - val_accuracy: 0.9444\n",
      "Epoch 61/100\n",
      "7/7 [==============================] - 0s 15ms/step - loss: 2.2480e-06 - accuracy: 1.0000 - val_loss: 0.5615 - val_accuracy: 0.9444\n",
      "Epoch 62/100\n",
      "7/7 [==============================] - 0s 17ms/step - loss: 0.0163 - accuracy: 0.9881 - val_loss: 0.5467 - val_accuracy: 0.9444\n",
      "Epoch 63/100\n",
      "7/7 [==============================] - 0s 16ms/step - loss: 0.0011 - accuracy: 1.0000 - val_loss: 0.5101 - val_accuracy: 0.9444\n",
      "Epoch 64/100\n",
      "7/7 [==============================] - 0s 16ms/step - loss: 3.0892e-06 - accuracy: 1.0000 - val_loss: 0.4867 - val_accuracy: 0.9444\n",
      "Epoch 65/100\n",
      "7/7 [==============================] - 0s 16ms/step - loss: 0.0053 - accuracy: 1.0000 - val_loss: 0.6185 - val_accuracy: 0.9444\n",
      "Epoch 66/100\n",
      "7/7 [==============================] - 0s 17ms/step - loss: 2.1767e-07 - accuracy: 1.0000 - val_loss: 0.7228 - val_accuracy: 0.9444\n",
      "Epoch 67/100\n",
      "7/7 [==============================] - 0s 18ms/step - loss: 1.0538e-04 - accuracy: 1.0000 - val_loss: 0.7721 - val_accuracy: 0.9444\n",
      "Epoch 68/100\n",
      "7/7 [==============================] - 0s 16ms/step - loss: 0.0114 - accuracy: 1.0000 - val_loss: 0.7699 - val_accuracy: 0.9444\n",
      "Epoch 69/100\n",
      "7/7 [==============================] - 0s 18ms/step - loss: 1.5641e-06 - accuracy: 1.0000 - val_loss: 0.7550 - val_accuracy: 0.9444\n",
      "Epoch 70/100\n",
      "7/7 [==============================] - 0s 16ms/step - loss: 1.2242e-06 - accuracy: 1.0000 - val_loss: 0.7479 - val_accuracy: 0.9444\n",
      "Epoch 71/100\n",
      "7/7 [==============================] - 0s 15ms/step - loss: 4.3418e-08 - accuracy: 1.0000 - val_loss: 0.7446 - val_accuracy: 0.9444\n",
      "Epoch 72/100\n",
      "7/7 [==============================] - 0s 17ms/step - loss: 0.0013 - accuracy: 1.0000 - val_loss: 0.7522 - val_accuracy: 0.9444\n",
      "Epoch 73/100\n",
      "7/7 [==============================] - 0s 15ms/step - loss: 5.6935e-07 - accuracy: 1.0000 - val_loss: 0.7618 - val_accuracy: 0.9444\n",
      "Epoch 74/100\n",
      "7/7 [==============================] - 0s 18ms/step - loss: 1.9642e-06 - accuracy: 1.0000 - val_loss: 0.7665 - val_accuracy: 0.9444\n",
      "Epoch 75/100\n",
      "7/7 [==============================] - 0s 15ms/step - loss: 0.0114 - accuracy: 0.9881 - val_loss: 0.8474 - val_accuracy: 0.9444\n",
      "Epoch 76/100\n",
      "7/7 [==============================] - 0s 18ms/step - loss: 1.8887e-06 - accuracy: 1.0000 - val_loss: 0.9552 - val_accuracy: 0.9444\n",
      "Epoch 77/100\n",
      "7/7 [==============================] - 0s 16ms/step - loss: 0.0404 - accuracy: 0.9881 - val_loss: 0.9916 - val_accuracy: 0.9444\n",
      "Epoch 78/100\n",
      "7/7 [==============================] - 0s 17ms/step - loss: 0.0847 - accuracy: 0.9881 - val_loss: 0.9370 - val_accuracy: 0.9444\n",
      "Epoch 79/100\n",
      "7/7 [==============================] - 0s 16ms/step - loss: 5.5401e-10 - accuracy: 1.0000 - val_loss: 0.9365 - val_accuracy: 0.9444\n",
      "Epoch 80/100\n",
      "7/7 [==============================] - 0s 18ms/step - loss: 0.0145 - accuracy: 0.9881 - val_loss: 0.9731 - val_accuracy: 0.9444\n",
      "Epoch 81/100\n",
      "7/7 [==============================] - 0s 16ms/step - loss: 2.8676e-06 - accuracy: 1.0000 - val_loss: 1.0090 - val_accuracy: 0.9444\n",
      "Epoch 82/100\n",
      "7/7 [==============================] - 0s 18ms/step - loss: 4.2169e-08 - accuracy: 1.0000 - val_loss: 1.0276 - val_accuracy: 0.9444\n",
      "Epoch 83/100\n",
      "7/7 [==============================] - 0s 16ms/step - loss: 7.1433e-05 - accuracy: 1.0000 - val_loss: 1.0374 - val_accuracy: 0.9444\n",
      "Epoch 84/100\n",
      "7/7 [==============================] - 0s 17ms/step - loss: 7.3931e-06 - accuracy: 1.0000 - val_loss: 1.0412 - val_accuracy: 0.9444\n",
      "Epoch 85/100\n",
      "7/7 [==============================] - 0s 18ms/step - loss: 0.0476 - accuracy: 0.9881 - val_loss: 0.8144 - val_accuracy: 0.9444\n",
      "Epoch 86/100\n",
      "7/7 [==============================] - 0s 17ms/step - loss: 1.4479e-07 - accuracy: 1.0000 - val_loss: 0.7286 - val_accuracy: 0.8889\n",
      "Epoch 87/100\n",
      "7/7 [==============================] - 0s 17ms/step - loss: 1.1342e-07 - accuracy: 1.0000 - val_loss: 1.3497 - val_accuracy: 0.8333\n",
      "Epoch 88/100\n",
      "7/7 [==============================] - 0s 16ms/step - loss: 0.0966 - accuracy: 0.9881 - val_loss: 1.6457 - val_accuracy: 0.8333\n",
      "Epoch 89/100\n",
      "7/7 [==============================] - 0s 21ms/step - loss: 0.0410 - accuracy: 1.0000 - val_loss: 0.9855 - val_accuracy: 0.9444\n",
      "Epoch 90/100\n",
      "7/7 [==============================] - 0s 16ms/step - loss: 0.0432 - accuracy: 0.9881 - val_loss: 1.3122 - val_accuracy: 0.8889\n",
      "Epoch 91/100\n",
      "7/7 [==============================] - 0s 18ms/step - loss: 0.0681 - accuracy: 0.9881 - val_loss: 0.9130 - val_accuracy: 0.9444\n",
      "Epoch 92/100\n",
      "7/7 [==============================] - 0s 18ms/step - loss: 2.8295e-06 - accuracy: 1.0000 - val_loss: 0.7141 - val_accuracy: 0.9444\n",
      "Epoch 93/100\n",
      "7/7 [==============================] - 0s 16ms/step - loss: 4.8094e-08 - accuracy: 1.0000 - val_loss: 0.6121 - val_accuracy: 0.9444\n",
      "Epoch 94/100\n",
      "7/7 [==============================] - 0s 18ms/step - loss: 2.1783e-06 - accuracy: 1.0000 - val_loss: 0.5617 - val_accuracy: 0.9444\n",
      "Epoch 95/100\n",
      "7/7 [==============================] - 0s 16ms/step - loss: 0.1268 - accuracy: 0.9881 - val_loss: 0.6943 - val_accuracy: 0.9444\n",
      "Epoch 96/100\n",
      "7/7 [==============================] - 0s 18ms/step - loss: 7.7442e-05 - accuracy: 1.0000 - val_loss: 0.9789 - val_accuracy: 0.9444\n",
      "Epoch 97/100\n",
      "7/7 [==============================] - 0s 18ms/step - loss: 1.0235e-11 - accuracy: 1.0000 - val_loss: 1.1060 - val_accuracy: 0.9444\n",
      "Epoch 98/100\n",
      "7/7 [==============================] - 0s 16ms/step - loss: 6.5344e-14 - accuracy: 1.0000 - val_loss: 1.1682 - val_accuracy: 0.9444\n",
      "Epoch 99/100\n",
      "7/7 [==============================] - 0s 17ms/step - loss: 1.5284e-06 - accuracy: 1.0000 - val_loss: 1.1987 - val_accuracy: 0.9444\n",
      "Epoch 100/100\n",
      "7/7 [==============================] - 0s 16ms/step - loss: 1.7500e-08 - accuracy: 1.0000 - val_loss: 1.2137 - val_accuracy: 0.9444\n"
     ]
    },
    {
     "data": {
      "text/plain": [
       "<keras.callbacks.History at 0x2479394ff70>"
      ]
     },
     "execution_count": 15,
     "metadata": {},
     "output_type": "execute_result"
    }
   ],
   "source": [
    "#ANN code\n",
    "\n",
    "model = keras.Sequential([\n",
    "    keras.layers.Flatten(input_shape= x_train1[0].shape),\n",
    "    keras.layers.Dense(500, kernel_initializer= \"uniform\",  activation='relu'),\n",
    "    keras.layers.Dropout(0.5),\n",
    "    keras.layers.Dense(500, kernel_initializer= \"uniform\", activation='relu'),\n",
    "    keras.layers.Dropout(0.5),\n",
    "    keras.layers.Dense(500, kernel_initializer= \"uniform\", activation='relu'),\n",
    "    keras.layers.Dropout(0.5),\n",
    "    keras.layers.Dense(2, activation='softmax')\n",
    "])\n",
    "\n",
    "model.compile(\n",
    "    optimizer = 'adam',\n",
    "    loss='binary_crossentropy',\n",
    "    metrics=['accuracy']\n",
    ")\n",
    "\n",
    "\n",
    "model.summary()\n",
    "model.fit(x_train1, y_train, validation_data=(x_val1, y_val) ,epochs=100, batch_size=12)"
   ]
  },
  {
   "cell_type": "code",
   "execution_count": 16,
   "id": "baf7ee3a",
   "metadata": {},
   "outputs": [
    {
     "name": "stdout",
     "output_type": "stream",
     "text": [
      "1/1 [==============================] - 0s 68ms/step - loss: 5.3924 - accuracy: 0.8889\n"
     ]
    },
    {
     "data": {
      "text/plain": [
       "[5.3924407958984375, 0.8888888955116272]"
      ]
     },
     "execution_count": 16,
     "metadata": {},
     "output_type": "execute_result"
    }
   ],
   "source": [
    "model.evaluate(x_test1, y_test)"
   ]
  },
  {
   "cell_type": "code",
   "execution_count": 17,
   "id": "e72dc3d2",
   "metadata": {},
   "outputs": [
    {
     "name": "stdout",
     "output_type": "stream",
     "text": [
      "1/1 [==============================] - 0s 204ms/step\n"
     ]
    },
    {
     "data": {
      "text/plain": [
       "array([[0.0000000e+00, 1.0000000e+00],\n",
       "       [1.0000000e+00, 0.0000000e+00],\n",
       "       [1.0000000e+00, 0.0000000e+00],\n",
       "       [9.9280179e-01, 7.1982066e-03],\n",
       "       [0.0000000e+00, 1.0000000e+00],\n",
       "       [1.0000000e+00, 0.0000000e+00],\n",
       "       [1.0000000e+00, 5.7255806e-33],\n",
       "       [1.0000000e+00, 0.0000000e+00],\n",
       "       [1.0000000e+00, 0.0000000e+00],\n",
       "       [1.8779841e-31, 1.0000000e+00],\n",
       "       [8.3460812e-22, 1.0000000e+00],\n",
       "       [0.0000000e+00, 1.0000000e+00],\n",
       "       [3.0951285e-30, 1.0000000e+00],\n",
       "       [0.0000000e+00, 1.0000000e+00],\n",
       "       [0.0000000e+00, 1.0000000e+00],\n",
       "       [1.1510155e-29, 1.0000000e+00],\n",
       "       [4.8388320e-34, 1.0000000e+00],\n",
       "       [5.3397548e-35, 1.0000000e+00]], dtype=float32)"
      ]
     },
     "execution_count": 17,
     "metadata": {},
     "output_type": "execute_result"
    }
   ],
   "source": [
    "# Analyze prediction values\n",
    "\n",
    "\n",
    "\n",
    "predicted = model.predict(x_test1)\n",
    "predicted[:,:]"
   ]
  },
  {
   "cell_type": "code",
   "execution_count": 18,
   "id": "c06cdfc0",
   "metadata": {},
   "outputs": [
    {
     "name": "stdout",
     "output_type": "stream",
     "text": [
      "1/1 [==============================] - 0s 47ms/step\n",
      "              precision    recall  f1-score   support\n",
      "\n",
      "           0       1.00      0.78      0.88         9\n",
      "           1       0.82      1.00      0.90         9\n",
      "\n",
      "    accuracy                           0.89        18\n",
      "   macro avg       0.91      0.89      0.89        18\n",
      "weighted avg       0.91      0.89      0.89        18\n",
      "\n"
     ]
    }
   ],
   "source": [
    "# Import confusion matrix and classification report from scikit-learn\n",
    "from sklearn.metrics import confusion_matrix, classification_report\n",
    "Y_prediction = model.predict(x_test1)\n",
    "# Convert predictions classes to one hot vectors \n",
    "Y_pred_classes = np.argmax(predicted,axis = 1) \n",
    "# compute the confusion matrix\n",
    "confusion_mtx = confusion_matrix(target[indexes_test], Y_pred_classes) \n",
    "print(classification_report(target[indexes_test], Y_pred_classes))"
   ]
  },
  {
   "cell_type": "code",
   "execution_count": 19,
   "id": "b3821cc9",
   "metadata": {},
   "outputs": [
    {
     "data": {
      "image/png": "[encoded data removed]",
      "text/plain": [
       "<Figure size 1000x800 with 2 Axes>"
      ]
     },
     "metadata": {},
     "output_type": "display_data"
    }
   ],
   "source": [
    "# Plot confusion matrix\n",
    "plt.figure(figsize=(10,8))\n",
    "sns.heatmap(confusion_mtx, annot=True, fmt=\"d\");"
   ]
  },
  {
   "cell_type": "code",
   "execution_count": 20,
   "id": "82a2767c",
   "metadata": {},
   "outputs": [
    {
     "data": {
      "text/plain": [
       "<tf.Tensor: shape=(18, 2), dtype=float32, numpy=\n",
       "array([[1., 0.],\n",
       "       [1., 0.],\n",
       "       [1., 0.],\n",
       "       [1., 0.],\n",
       "       [1., 0.],\n",
       "       [1., 0.],\n",
       "       [1., 0.],\n",
       "       [1., 0.],\n",
       "       [1., 0.],\n",
       "       [0., 1.],\n",
       "       [0., 1.],\n",
       "       [0., 1.],\n",
       "       [0., 1.],\n",
       "       [0., 1.],\n",
       "       [0., 1.],\n",
       "       [0., 1.],\n",
       "       [0., 1.],\n",
       "       [0., 1.]], dtype=float32)>"
      ]
     },
     "execution_count": 20,
     "metadata": {},
     "output_type": "execute_result"
    }
   ],
   "source": [
    "y_test"
   ]
  },
  {
   "cell_type": "code",
   "execution_count": 21,
   "id": "63b7bd4c",
   "metadata": {},
   "outputs": [
    {
     "data": {
      "image/png": "[encoded data removed]",
      "text/plain": [
       "<Figure size 640x480 with 1 Axes>"
      ]
     },
     "metadata": {},
     "output_type": "display_data"
    }
   ],
   "source": [
    "from sklearn import metrics\n",
    "\n",
    "fpr, tpr, thresholds = metrics.roc_curve(np.argmax(y_test, axis =1), np.argmax(predicted, axis =1), pos_label=1)\n",
    "roc_auc = metrics.auc(fpr, tpr)\n",
    "\n",
    "lw = 2\n",
    "plt.figure()\n",
    "plt.plot([0, 1], [0, 1], color='navy', lw=lw, linestyle='--', alpha=0.15)\n",
    "plt.plot(fpr, tpr, lw=lw, label=f'ROC curve (area = {roc_auc: 0.2f})')\n",
    "\n",
    "plt.xlabel('False Positive Rate')\n",
    "plt.ylabel('True Positive Rate')\n",
    "plt.title(f'Receiver Operating Characteristic')\n",
    "plt.legend(loc=\"lower right\")\n",
    "plt.show()"
   ]
  },
  {
   "cell_type": "code",
   "execution_count": 22,
   "id": "a24058ed",
   "metadata": {},
   "outputs": [],
   "source": [
    "# Get data path\n",
    "data_path = 'final data/*.nii.gz'\n",
    "# Find all files within the location that matches our search string\n",
    "files = glob.glob(data_path)\n",
    "\n",
    "# Get the labels for our data from our csv file\n",
    "Labels = pd.read_csv('labels.csv')\n",
    "# Define our target from the column \"Labels\" as our y in our model\n",
    "target = Labels['group']"
   ]
  },
  {
   "cell_type": "code",
   "execution_count": 23,
   "id": "6b62d900",
   "metadata": {},
   "outputs": [
    {
     "name": "stdout",
     "output_type": "stream",
     "text": [
      "120\n",
      "(120, 64, 64, 34)\n"
     ]
    }
   ],
   "source": [
    "# Loop through files and load all data files\n",
    "data_all, images = [], []\n",
    "for data_file in sorted(files):\n",
    "    data = nib.load(data_file).get_fdata()\n",
    "    first_vol = data[:,:,:,0]\n",
    "    first = first_vol / 255\n",
    "    data_all.append(first)\n",
    "    \n",
    "# Convert our list into a numpy array\n",
    "images = np.asarray(data_all)\n",
    "\n",
    "print(len(data_all))\n",
    "print (np.shape(images))"
   ]
  },
  {
   "cell_type": "code",
   "execution_count": 24,
   "id": "3b5c6af8",
   "metadata": {},
   "outputs": [
    {
     "name": "stdout",
     "output_type": "stream",
     "text": [
      "(84, 64, 64, 34) (18, 64, 64, 34) (18, 64, 64, 34)\n"
     ]
    }
   ],
   "source": [
    "# Create list of indices\n",
    "N = images.shape[0]\n",
    "indexes = np.arange(N)\n",
    "\n",
    "# Divide our dataset into dyslexics and controls to have a balanced train, validation and test sets\n",
    "dis = indexes[:60]\n",
    "con = indexes[60:]\n",
    "\n",
    "#  Cut the dataset at 80% to create the training, 10% validation and 10% test set\n",
    "size = dis.shape[0]\n",
    "split_1 = int(0.7 * size)\n",
    "split_2 = int(0.85 * size)\n",
    "\n",
    "# Shuffle our dyslexics and controls arrays to create random indexes\n",
    "np.random.shuffle(np.asarray(dis))\n",
    "np.random.shuffle(np.asarray(con))\n",
    "\n",
    "# Create our indexes for our train, validation and test sets according to our previous division (80%, 10%, 10%)\n",
    "indexes_train_dis, indexes_train_con = dis[:split_1], con[:split_1]\n",
    "indexes_val_dis, indexes_val_con   = dis[split_1:split_2], con[split_1:split_2]\n",
    "indexes_test_dis, indexes_test_con = dis[split_2:], con[split_2:]\n",
    "\n",
    "# We concatenate our training, validation and test indexes for dyslexics and controls\n",
    "# By doing that we ensure that each set is balanced with the same number of dyslexics and controls\n",
    "indexes_train = np.concatenate((indexes_train_dis, indexes_train_con), axis=None)\n",
    "indexes_val = np.concatenate((indexes_val_dis, indexes_val_con), axis=None)\n",
    "indexes_test = np.concatenate((indexes_test_dis, indexes_test_con), axis=None)\n",
    "\n",
    "\n",
    "# Split the data into training, validation and test sets according to the indexes created previously\n",
    "X_train = images[indexes_train, ...]\n",
    "X_val = images[indexes_val, ...]\n",
    "X_test = images[indexes_test, ...]\n",
    "print(X_train.shape, X_val.shape,X_test.shape)"
   ]
  },
  {
   "cell_type": "code",
   "execution_count": 25,
   "id": "7207e92b",
   "metadata": {},
   "outputs": [
    {
     "name": "stdout",
     "output_type": "stream",
     "text": [
      "(42,) (42,)\n",
      "(9,) (9,)\n",
      "(9,) (9,)\n"
     ]
    }
   ],
   "source": [
    "print(indexes_train_dis.shape, indexes_train_con.shape)\n",
    "print(indexes_val_dis.shape, indexes_val_con.shape)\n",
    "print(indexes_test_dis.shape, indexes_test_con.shape)"
   ]
  },
  {
   "cell_type": "code",
   "execution_count": 26,
   "id": "c396569c",
   "metadata": {},
   "outputs": [
    {
     "name": "stdout",
     "output_type": "stream",
     "text": [
      "(84, 64, 64, 34)\n",
      "(18, 64, 64, 34)\n",
      "(18, 64, 64, 34)\n",
      "(84,)\n",
      "(18,)\n",
      "(18,)\n"
     ]
    }
   ],
   "source": [
    "# Create outcome variable for each set (training, validation and test)\n",
    "y_train = target[indexes_train] \n",
    "y_val   = target[indexes_val]\n",
    "y_test  = target[indexes_test]\n",
    "print(X_train.shape)\n",
    "print(X_val.shape)\n",
    "print(X_test.shape)\n",
    "print(y_train.shape)\n",
    "print(y_val.shape)\n",
    "print(y_test.shape)"
   ]
  },
  {
   "cell_type": "code",
   "execution_count": 27,
   "id": "ddf6b068",
   "metadata": {},
   "outputs": [],
   "source": [
    "# Our vectorized labels\n",
    "y_train = np.asarray(y_train).astype('int32')\n",
    "y_test = np.asarray(y_test).astype('int32')\n",
    "y_val = np.asarray(y_val).astype('int32')"
   ]
  },
  {
   "cell_type": "code",
   "execution_count": 28,
   "id": "c524c8c0",
   "metadata": {},
   "outputs": [
    {
     "name": "stdout",
     "output_type": "stream",
     "text": [
      "(84, 139264)\n",
      "(18, 139264)\n",
      "(18, 139264)\n"
     ]
    }
   ],
   "source": [
    "x_train = X_train.reshape(len(X_train), -1)\n",
    "print(x_train.shape)\n",
    "x_test = X_test.reshape(len(X_test), -1)\n",
    "print(x_test.shape)\n",
    "x_val = X_val.reshape(len(X_val), -1)\n",
    "print(x_val.shape)"
   ]
  },
  {
   "cell_type": "code",
   "execution_count": 29,
   "id": "0258ff91",
   "metadata": {},
   "outputs": [
    {
     "data": {
      "text/plain": [
       "array([[ 0.        ,  0.        ,  0.        , ...,  1.39571181,\n",
       "        -1.24894335,  1.24901736],\n",
       "       [ 0.        ,  0.        ,  0.        , ..., -0.48012486,\n",
       "         0.18819694, -0.14988208],\n",
       "       [ 0.        ,  0.        ,  0.        , ..., -0.01116569,\n",
       "         0.66724371, -1.08248172],\n",
       "       ...,\n",
       "       [ 0.        ,  0.        ,  0.        , ...,  0.92675265,\n",
       "         1.14629047,  0.31641773],\n",
       "       [ 0.        ,  0.        ,  0.        , ...,  0.92675265,\n",
       "         0.18819694,  0.31641773],\n",
       "       [ 0.        ,  0.        ,  0.        , ..., -1.88700237,\n",
       "        -1.72799012, -0.6161819 ]])"
      ]
     },
     "execution_count": 29,
     "metadata": {},
     "output_type": "execute_result"
    }
   ],
   "source": [
    "from sklearn.preprocessing import StandardScaler\n",
    "\n",
    "sc = StandardScaler()\n",
    "x_train1 = sc.fit_transform(x_train)\n",
    "x_test1 = sc.transform(x_test)\n",
    "x_val1 = sc.transform(x_val)\n",
    "x_val1"
   ]
  },
  {
   "cell_type": "code",
   "execution_count": 30,
   "id": "8ca79db4",
   "metadata": {},
   "outputs": [
    {
     "data": {
      "text/plain": [
       "(84, 79)"
      ]
     },
     "execution_count": 30,
     "metadata": {},
     "output_type": "execute_result"
    }
   ],
   "source": [
    "from sklearn.decomposition import PCA\n",
    "\n",
    "pca = PCA(0.99)\n",
    "x_train1 = pca.fit_transform(x_train1)\n",
    "x_test1 = pca.transform(x_test1)\n",
    "x_val1 = pca.transform(x_val1)\n",
    "x_train1.shape"
   ]
  },
  {
   "cell_type": "code",
   "execution_count": 31,
   "id": "ac7f7368",
   "metadata": {},
   "outputs": [
    {
     "name": "stdout",
     "output_type": "stream",
     "text": [
      "Model accuracy score with default hyperparameters: 0.7778\n"
     ]
    }
   ],
   "source": [
    "# import SVC classifier\n",
    "from sklearn.svm import SVC\n",
    "\n",
    "\n",
    "# import metrics to compute accuracy\n",
    "from sklearn.metrics import accuracy_score\n",
    "\n",
    "\n",
    "# instantiate classifier with default hyperparameters\n",
    "svc=SVC() \n",
    "\n",
    "\n",
    "# fit classifier to training set\n",
    "svc.fit(x_train1,y_train)\n",
    "\n",
    "\n",
    "# make predictions on test set\n",
    "y_pred=svc.predict(x_test1)\n",
    "\n",
    "\n",
    "# compute and print accuracy score\n",
    "print('Model accuracy score with default hyperparameters: {0:0.4f}'. format(accuracy_score(y_test, y_pred)))"
   ]
  },
  {
   "cell_type": "code",
   "execution_count": 32,
   "id": "c4a23485",
   "metadata": {},
   "outputs": [
    {
     "data": {
      "text/plain": [
       "array([0, 1, 0, 0, 1, 1, 0, 1, 0, 1, 1, 1, 1, 1, 1, 1, 1, 1])"
      ]
     },
     "execution_count": 32,
     "metadata": {},
     "output_type": "execute_result"
    }
   ],
   "source": [
    "# Analyze prediction values\n",
    "\n",
    "predicted = svc.predict(x_test1)\n",
    "predicted[:]"
   ]
  },
  {
   "cell_type": "code",
   "execution_count": 33,
   "id": "9493836d",
   "metadata": {},
   "outputs": [
    {
     "data": {
      "text/plain": [
       "array([0, 0, 0, 0, 0, 0, 0, 0, 0, 1, 1, 1, 1, 1, 1, 1, 1, 1])"
      ]
     },
     "execution_count": 33,
     "metadata": {},
     "output_type": "execute_result"
    }
   ],
   "source": [
    "y_test"
   ]
  },
  {
   "cell_type": "code",
   "execution_count": 34,
   "id": "3b47fad0",
   "metadata": {},
   "outputs": [
    {
     "name": "stdout",
     "output_type": "stream",
     "text": [
      "tf.Tensor(\n",
      "[[5 4]\n",
      " [0 9]], shape=(2, 2), dtype=int32)\n"
     ]
    }
   ],
   "source": [
    "cm = tf.math.confusion_matrix(labels = y_test, predictions= predicted)\n",
    "print(cm)"
   ]
  },
  {
   "cell_type": "code",
   "execution_count": 35,
   "id": "24c3544e",
   "metadata": {},
   "outputs": [
    {
     "data": {
      "text/plain": [
       "Text(92.25, 0.5, 'Truth')"
      ]
     },
     "execution_count": 35,
     "metadata": {},
     "output_type": "execute_result"
    },
    {
     "data": {
      "image/png": "[encoded data removed]",
      "text/plain": [
       "<Figure size 1000x700 with 2 Axes>"
      ]
     },
     "metadata": {},
     "output_type": "display_data"
    }
   ],
   "source": [
    "import seaborn as sn\n",
    "plt.figure(figsize = (10,7))\n",
    "sn.heatmap(cm, annot=True, fmt='d')\n",
    "plt.xlabel('Predicted')\n",
    "plt.ylabel('Truth')"
   ]
  },
  {
   "cell_type": "code",
   "execution_count": 36,
   "id": "34cbb944",
   "metadata": {},
   "outputs": [],
   "source": [
    "predicted = tf.one_hot(predicted, 2)\n"
   ]
  },
  {
   "cell_type": "code",
   "execution_count": 37,
   "id": "3da8c28b",
   "metadata": {},
   "outputs": [
    {
     "name": "stdout",
     "output_type": "stream",
     "text": [
      "              precision    recall  f1-score   support\n",
      "\n",
      "           0       1.00      0.56      0.71         9\n",
      "           1       0.69      1.00      0.82         9\n",
      "\n",
      "    accuracy                           0.78        18\n",
      "   macro avg       0.85      0.78      0.77        18\n",
      "weighted avg       0.85      0.78      0.77        18\n",
      "\n"
     ]
    }
   ],
   "source": [
    "# Import confusion matrix and classification report from scikit-learn\n",
    "from sklearn.metrics import confusion_matrix, classification_report\n",
    "Y_prediction = svc.predict(x_test1)\n",
    "# Convert predictions classes to one hot vectors \n",
    "Y_pred_classes = np.argmax(predicted,axis = 1) \n",
    "# compute the confusion matrix\n",
    "confusion_mtx = confusion_matrix(target[indexes_test], Y_pred_classes) \n",
    "print(classification_report(target[indexes_test], Y_pred_classes))"
   ]
  },
  {
   "cell_type": "code",
   "execution_count": 38,
   "id": "b0405220",
   "metadata": {},
   "outputs": [],
   "source": [
    "import matplotlib.pyplot as plt\n",
    "from sklearn.metrics import plot_roc_curve, auc"
   ]
  },
  {
   "cell_type": "code",
   "execution_count": 39,
   "id": "1f8b4052",
   "metadata": {},
   "outputs": [
    {
     "name": "stderr",
     "output_type": "stream",
     "text": [
      "C:\\Users\\achin\\AppData\\Roaming\\Python\\Python310\\site-packages\\sklearn\\utils\\deprecation.py:87: FutureWarning: Function plot_roc_curve is deprecated; Function :func:`plot_roc_curve` is deprecated in 1.0 and will be removed in 1.2. Use one of the class methods: :meth:`sklearn.metrics.RocCurveDisplay.from_predictions` or :meth:`sklearn.metrics.RocCurveDisplay.from_estimator`.\n",
      "  warnings.warn(msg, category=FutureWarning)\n"
     ]
    },
    {
     "data": {
      "text/plain": [
       "<sklearn.metrics._plot.roc_curve.RocCurveDisplay at 0x247b3ee0820>"
      ]
     },
     "execution_count": 39,
     "metadata": {},
     "output_type": "execute_result"
    },
    {
     "data": {
      "image/png": "[encoded data removed]",
      "text/plain": [
       "<Figure size 640x480 with 1 Axes>"
      ]
     },
     "metadata": {},
     "output_type": "display_data"
    }
   ],
   "source": [
    "plot_roc_curve(svc, x_test1, y_test)"
   ]
  },
  {
   "cell_type": "code",
   "execution_count": null,
   "id": "de1a2f11",
   "metadata": {},
   "outputs": [],
   "source": []
  }
 ],
 "metadata": {
  "kernelspec": {
   "display_name": "Python 3 (ipykernel)",
   "language": "python",
   "name": "python3"
  },
  "language_info": {
   "codemirror_mode": {
    "name": "ipython",
    "version": 3
   },
   "file_extension": ".py",
   "mimetype": "text/x-python",
   "name": "python",
   "nbconvert_exporter": "python",
   "pygments_lexer": "ipython3",
   "version": "3.7.13"
  }
 },
 "nbformat": 4,
 "nbformat_minor": 5
}
