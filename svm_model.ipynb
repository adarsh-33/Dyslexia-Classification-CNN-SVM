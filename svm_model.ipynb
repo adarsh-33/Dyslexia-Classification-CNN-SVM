{
 "cells": [
  {
   "cell_type": "code",
   "execution_count": 1,
   "id": "54a9db9e",
   "metadata": {},
   "outputs": [],
   "source": [
    "# Import manipulating files libraries\n",
    "import os, glob\n",
    "os.environ[\"CUDA_DEVICE_ORDER\"] = \"PCI_BUS_ID\"   #if like me you do not have a lot of memory in your GPU\n",
    "os.environ[\"CUDA_VISIBLE_DEVICES\"] = \"\" #then these two lines force keras to use your CPU\n",
    "# Import graph/image plotting libraries\n",
    "import matplotlib.pyplot as plt\n",
    "import seaborn as sns\n",
    "sns.set(style=\"darkgrid\")\n",
    "\n",
    "# Import loading and manipulating neuroimaging data library\n",
    "import nibabel as nib\n",
    "\n",
    "# Import array manipulating libraries\n",
    "import numpy as np\n",
    "import pandas as pd\n",
    "\n",
    "# Import deep learning model libraries\n",
    "import tensorflow as tf\n",
    "import keras\n",
    "from keras.models import Model, Sequential\n",
    "\n",
    "from keras import backend as K\n",
    "from keras.callbacks import ModelCheckpoint\n",
    "from keras.models import load_model\n",
    "\n",
    "# Import date/time library to save models with date/time\n",
    "from datetime import datetime"
   ]
  },
  {
   "cell_type": "code",
   "execution_count": 2,
   "id": "ded8142e",
   "metadata": {},
   "outputs": [],
   "source": [
    "# Get data path\n",
    "data_path = 'final data/*.nii.gz'\n",
    "# Find all files within the location that matches our search string\n",
    "files = glob.glob(data_path)\n",
    "\n",
    "# Get the labels for our data from our csv file\n",
    "Labels = pd.read_csv('labels.csv')\n",
    "# Define our target from the column \"Labels\" as our y in our model\n",
    "target = Labels['group']"
   ]
  },
  {
   "cell_type": "code",
   "execution_count": 3,
   "id": "e3a73d6e",
   "metadata": {},
   "outputs": [
    {
     "name": "stdout",
     "output_type": "stream",
     "text": [
      "120\n",
      "(120, 64, 64, 34)\n"
     ]
    }
   ],
   "source": [
    "# Loop through files and load all data files\n",
    "data_all, images = [], []\n",
    "for data_file in sorted(files):\n",
    "    data = nib.load(data_file).get_fdata()\n",
    "    first_vol = data[:,:,:,0]\n",
    "    first = first_vol / 255\n",
    "    data_all.append(first)\n",
    "    \n",
    "# Convert our list into a numpy array\n",
    "images = np.asarray(data_all)\n",
    "\n",
    "print(len(data_all))\n",
    "print (np.shape(images))"
   ]
  },
  {
   "cell_type": "code",
   "execution_count": 4,
   "id": "68da08e7",
   "metadata": {},
   "outputs": [
    {
     "name": "stdout",
     "output_type": "stream",
     "text": [
      "[[[0.         0.         0.         ... 0.         0.         0.        ]\n",
      "  [0.         0.         0.         ... 0.         0.         0.        ]\n",
      "  [0.         0.         0.         ... 0.         0.         0.        ]\n",
      "  ...\n",
      "  [0.         0.         0.         ... 0.         0.         0.        ]\n",
      "  [0.         0.         0.         ... 0.         0.         0.        ]\n",
      "  [0.         0.         0.         ... 0.         0.         0.        ]]\n",
      "\n",
      " [[0.03921569 0.04705882 0.05098039 ... 0.03529412 0.04313725 0.03137255]\n",
      "  [0.03921569 0.03529412 0.05098039 ... 0.04313725 0.03529412 0.04313725]\n",
      "  [0.04705882 0.05098039 0.04313725 ... 0.05098039 0.03529412 0.04313725]\n",
      "  ...\n",
      "  [0.0745098  0.09411765 0.10196078 ... 0.05882353 0.05098039 0.05882353]\n",
      "  [0.08235294 0.06666667 0.09411765 ... 0.05098039 0.05098039 0.05490196]\n",
      "  [0.07058824 0.0745098  0.09019608 ... 0.05490196 0.05490196 0.05882353]]\n",
      "\n",
      " [[0.03921569 0.05098039 0.06666667 ... 0.05098039 0.03921569 0.03921569]\n",
      "  [0.04705882 0.05490196 0.05882353 ... 0.05098039 0.04705882 0.04313725]\n",
      "  [0.04705882 0.05098039 0.05098039 ... 0.04313725 0.04313725 0.04313725]\n",
      "  ...\n",
      "  [0.08627451 0.07058824 0.08627451 ... 0.05490196 0.06666667 0.05098039]\n",
      "  [0.07843137 0.09411765 0.07843137 ... 0.05882353 0.05098039 0.05882353]\n",
      "  [0.06666667 0.07058824 0.09019608 ... 0.05882353 0.05882353 0.05490196]]\n",
      "\n",
      " ...\n",
      "\n",
      " [[0.05098039 0.05490196 0.05490196 ... 0.02745098 0.03529412 0.03921569]\n",
      "  [0.04705882 0.05490196 0.04705882 ... 0.03137255 0.03137255 0.03137255]\n",
      "  [0.05490196 0.05882353 0.05490196 ... 0.03137255 0.03137255 0.01960784]\n",
      "  ...\n",
      "  [0.09411765 0.07843137 0.09411765 ... 0.05490196 0.0627451  0.05882353]\n",
      "  [0.08627451 0.0627451  0.09411765 ... 0.0627451  0.05882353 0.05490196]\n",
      "  [0.07058824 0.0745098  0.08235294 ... 0.0627451  0.05098039 0.0627451 ]]\n",
      "\n",
      " [[0.04705882 0.03921569 0.04313725 ... 0.03137255 0.03137255 0.03137255]\n",
      "  [0.05098039 0.05098039 0.04705882 ... 0.02352941 0.03137255 0.02745098]\n",
      "  [0.05098039 0.05098039 0.05882353 ... 0.03529412 0.03529412 0.02745098]\n",
      "  ...\n",
      "  [0.07843137 0.07843137 0.08627451 ... 0.04705882 0.05882353 0.05882353]\n",
      "  [0.07843137 0.09803922 0.08235294 ... 0.0627451  0.0627451  0.05490196]\n",
      "  [0.08627451 0.07058824 0.09803922 ... 0.0627451  0.05490196 0.0627451 ]]\n",
      "\n",
      " [[0.04705882 0.04705882 0.04313725 ... 0.03529412 0.02745098 0.03137255]\n",
      "  [0.05098039 0.04705882 0.05490196 ... 0.03529412 0.03137255 0.02352941]\n",
      "  [0.05882353 0.05098039 0.05490196 ... 0.03529412 0.02745098 0.03137255]\n",
      "  ...\n",
      "  [0.08235294 0.07058824 0.09803922 ... 0.06666667 0.07058824 0.05490196]\n",
      "  [0.07843137 0.08627451 0.0745098  ... 0.05882353 0.05882353 0.05490196]\n",
      "  [0.08235294 0.07843137 0.07058824 ... 0.05882353 0.05098039 0.05882353]]]\n"
     ]
    }
   ],
   "source": [
    "print(images[3])"
   ]
  },
  {
   "cell_type": "code",
   "execution_count": 5,
   "id": "89f0a9d5",
   "metadata": {},
   "outputs": [
    {
     "name": "stdout",
     "output_type": "stream",
     "text": [
      "(84, 64, 64, 34) (18, 64, 64, 34) (18, 64, 64, 34)\n"
     ]
    }
   ],
   "source": [
    "# Create list of indices\n",
    "N = images.shape[0]\n",
    "indexes = np.arange(N)\n",
    "\n",
    "# Divide our dataset into dyslexics and controls to have a balanced train, validation and test sets\n",
    "dis = indexes[:60]\n",
    "con = indexes[60:]\n",
    "\n",
    "#  Cut the dataset at 80% to create the training, 10% validation and 10% test set\n",
    "size = dis.shape[0]\n",
    "split_1 = int(0.7 * size)\n",
    "split_2 = int(0.85 * size)\n",
    "\n",
    "# Shuffle our dyslexics and controls arrays to create random indexes\n",
    "np.random.shuffle(np.asarray(dis))\n",
    "np.random.shuffle(np.asarray(con))\n",
    "\n",
    "# Create our indexes for our train, validation and test sets according to our previous division (80%, 10%, 10%)\n",
    "indexes_train_dis, indexes_train_con = dis[:split_1], con[:split_1]\n",
    "indexes_val_dis, indexes_val_con   = dis[split_1:split_2], con[split_1:split_2]\n",
    "indexes_test_dis, indexes_test_con = dis[split_2:], con[split_2:]\n",
    "\n",
    "# We concatenate our training, validation and test indexes for dyslexics and controls\n",
    "# By doing that we ensure that each set is balanced with the same number of dyslexics and controls\n",
    "indexes_train = np.concatenate((indexes_train_dis, indexes_train_con), axis=None)\n",
    "indexes_val = np.concatenate((indexes_val_dis, indexes_val_con), axis=None)\n",
    "indexes_test = np.concatenate((indexes_test_dis, indexes_test_con), axis=None)\n",
    "\n",
    "\n",
    "# Split the data into training, validation and test sets according to the indexes created previously\n",
    "X_train = images[indexes_train, ...]\n",
    "X_val = images[indexes_val, ...]\n",
    "X_test = images[indexes_test, ...]\n",
    "print(X_train.shape, X_val.shape,X_test.shape)"
   ]
  },
  {
   "cell_type": "code",
   "execution_count": 6,
   "id": "7df422a2",
   "metadata": {},
   "outputs": [
    {
     "name": "stdout",
     "output_type": "stream",
     "text": [
      "(42,) (42,)\n",
      "(9,) (9,)\n",
      "(9,) (9,)\n"
     ]
    }
   ],
   "source": [
    "print(indexes_train_dis.shape, indexes_train_con.shape)\n",
    "print(indexes_val_dis.shape, indexes_val_con.shape)\n",
    "print(indexes_test_dis.shape, indexes_test_con.shape)"
   ]
  },
  {
   "cell_type": "code",
   "execution_count": 7,
   "id": "884c6864",
   "metadata": {},
   "outputs": [
    {
     "name": "stdout",
     "output_type": "stream",
     "text": [
      "(84, 64, 64, 34)\n",
      "(18, 64, 64, 34)\n",
      "(18, 64, 64, 34)\n",
      "(84,)\n",
      "(18,)\n",
      "(18,)\n"
     ]
    }
   ],
   "source": [
    "# Create outcome variable for each set (training, validation and test)\n",
    "y_train = target[indexes_train] \n",
    "y_val   = target[indexes_val]\n",
    "y_test  = target[indexes_test]\n",
    "print(X_train.shape)\n",
    "print(X_val.shape)\n",
    "print(X_test.shape)\n",
    "print(y_train.shape)\n",
    "print(y_val.shape)\n",
    "print(y_test.shape)"
   ]
  },
  {
   "cell_type": "code",
   "execution_count": 8,
   "id": "8d6fed2c",
   "metadata": {},
   "outputs": [],
   "source": [
    "# Our vectorized labels\n",
    "y_train = np.asarray(y_train).astype('int32')\n",
    "y_test = np.asarray(y_test).astype('int32')\n",
    "y_val = np.asarray(y_val).astype('int32')"
   ]
  },
  {
   "cell_type": "code",
   "execution_count": 9,
   "id": "d490583c",
   "metadata": {},
   "outputs": [
    {
     "name": "stdout",
     "output_type": "stream",
     "text": [
      "(84, 139264)\n",
      "(18, 139264)\n",
      "(18, 139264)\n"
     ]
    }
   ],
   "source": [
    "x_train = X_train.reshape(len(X_train), -1)\n",
    "print(x_train.shape)\n",
    "x_test = X_test.reshape(len(X_test), -1)\n",
    "print(x_test.shape)\n",
    "x_val = X_val.reshape(len(X_val), -1)\n",
    "print(x_val.shape)"
   ]
  },
  {
   "cell_type": "code",
   "execution_count": 10,
   "id": "d3560b03",
   "metadata": {},
   "outputs": [
    {
     "data": {
      "text/plain": [
       "array([[ 0.        ,  0.        ,  0.        , ...,  0.33875374,\n",
       "        -0.23415577,  0.88344042],\n",
       "       [ 0.        ,  0.        ,  0.        , ..., -1.01626123,\n",
       "        -0.23415577, -1.67549046],\n",
       "       [ 0.        ,  0.        ,  0.        , ...,  0.7904254 ,\n",
       "         0.245578  ,  1.3952266 ],\n",
       "       ...,\n",
       "       [ 0.        ,  0.        ,  0.        , ...,  1.24209706,\n",
       "         0.72531178, -0.14013193],\n",
       "       [ 0.        ,  0.        ,  0.        , ...,  0.33875374,\n",
       "         0.245578  ,  0.37165425],\n",
       "       [ 0.        ,  0.        ,  0.        , ...,  0.33875374,\n",
       "         0.72531178, -0.14013193]])"
      ]
     },
     "execution_count": 10,
     "metadata": {},
     "output_type": "execute_result"
    }
   ],
   "source": [
    "from sklearn.preprocessing import StandardScaler\n",
    "\n",
    "sc = StandardScaler()\n",
    "x_train1 = sc.fit_transform(x_train)\n",
    "x_test1 = sc.transform(x_test)\n",
    "x_val1 = sc.transform(x_val)\n",
    "x_val1"
   ]
  },
  {
   "cell_type": "code",
   "execution_count": 11,
   "id": "dfedb60e",
   "metadata": {},
   "outputs": [
    {
     "data": {
      "text/plain": [
       "(18, 139264)"
      ]
     },
     "execution_count": 11,
     "metadata": {},
     "output_type": "execute_result"
    }
   ],
   "source": [
    "x_test1.shape"
   ]
  },
  {
   "cell_type": "code",
   "execution_count": 12,
   "id": "c3e1cf36",
   "metadata": {},
   "outputs": [
    {
     "name": "stdout",
     "output_type": "stream",
     "text": [
      "[[ 0.          0.          0.         ... -0.56458957  0.245578\n",
      "  -0.14013193]\n",
      " [ 0.          0.          0.         ... -0.56458957 -0.71388954\n",
      "  -0.65191811]\n",
      " [ 0.          0.          0.         ... -0.11291791 -0.23415577\n",
      "   0.37165425]\n",
      " ...\n",
      " [ 0.          0.          0.         ... -0.11291791  0.72531178\n",
      "   1.3952266 ]\n",
      " [ 0.          0.          0.         ... -1.01626123 -0.23415577\n",
      "  -1.16370428]\n",
      " [ 0.          0.          0.         ...  0.33875374  1.20504555\n",
      "   1.3952266 ]]\n"
     ]
    }
   ],
   "source": [
    "print(x_test1)"
   ]
  },
  {
   "cell_type": "code",
   "execution_count": 13,
   "id": "54f10f6c",
   "metadata": {},
   "outputs": [],
   "source": [
    "from sklearn.discriminant_analysis import LinearDiscriminantAnalysis as LDA\n",
    "\n",
    "lda = LDA(solver='svd', shrinkage=None, priors=None, n_components=1, store_covariance=False, tol=0.0001)\n",
    "x_train1 = lda.fit_transform(x_train1, y_train)\n",
    "x_test1 = lda.transform(x_test1)\n",
    "x_val1 = lda.transform(x_val1)"
   ]
  },
  {
   "cell_type": "code",
   "execution_count": 14,
   "id": "f1ef9393",
   "metadata": {},
   "outputs": [
    {
     "data": {
      "text/plain": [
       "array([[-6.71014101e-01],\n",
       "       [-1.15979176e+00],\n",
       "       [-1.06039226e+00],\n",
       "       [-6.20992564e-01],\n",
       "       [-6.96238700e-01],\n",
       "       [-1.56381654e+00],\n",
       "       [-5.06491577e-03],\n",
       "       [-1.60860772e+00],\n",
       "       [ 2.24348060e+00],\n",
       "       [-1.85442286e+00],\n",
       "       [-1.27875132e+00],\n",
       "       [-1.42043195e+00],\n",
       "       [-1.81959311e+00],\n",
       "       [-1.31518133e+00],\n",
       "       [-7.37021459e-01],\n",
       "       [-9.51071361e-01],\n",
       "       [-1.62245872e+00],\n",
       "       [-1.32522661e+00],\n",
       "       [-5.62692836e-02],\n",
       "       [-2.22449840e-01],\n",
       "       [-8.82159654e-02],\n",
       "       [-1.04769794e+00],\n",
       "       [-1.30074813e+00],\n",
       "       [-1.21844321e+00],\n",
       "       [-1.56785928e+00],\n",
       "       [-1.61351952e+00],\n",
       "       [-1.53145366e+00],\n",
       "       [-9.09361960e-01],\n",
       "       [-3.49947503e-01],\n",
       "       [ 2.42975456e+00],\n",
       "       [ 2.61264366e+00],\n",
       "       [-1.18763325e+00],\n",
       "       [-4.48671852e-01],\n",
       "       [-1.76180587e+00],\n",
       "       [-5.16023160e-01],\n",
       "       [-2.15050888e+00],\n",
       "       [-9.81457191e-01],\n",
       "       [-3.49142452e-03],\n",
       "       [-1.53427284e+00],\n",
       "       [-1.84329276e+00],\n",
       "       [-1.17950884e+00],\n",
       "       [-2.48307007e-02],\n",
       "       [ 9.76237437e-01],\n",
       "       [ 7.07278092e-01],\n",
       "       [ 8.80487727e-01],\n",
       "       [ 7.48210432e-01],\n",
       "       [ 1.20419891e+00],\n",
       "       [ 1.42225639e+00],\n",
       "       [-2.16452026e-02],\n",
       "       [ 1.35528118e+00],\n",
       "       [ 1.61783754e+00],\n",
       "       [ 1.41990437e+00],\n",
       "       [ 1.64415339e+00],\n",
       "       [ 1.79808717e+00],\n",
       "       [ 8.24532682e-01],\n",
       "       [ 5.69385208e-01],\n",
       "       [ 8.37838381e-01],\n",
       "       [ 3.13897835e-01],\n",
       "       [ 3.55490403e-01],\n",
       "       [ 4.95551286e-01],\n",
       "       [-4.62198695e-01],\n",
       "       [ 8.92157015e-01],\n",
       "       [ 1.38794381e+00],\n",
       "       [-4.04497917e+00],\n",
       "       [ 1.41430652e+00],\n",
       "       [ 7.91375522e-01],\n",
       "       [ 7.45587852e-01],\n",
       "       [ 9.54774368e-01],\n",
       "       [ 1.06539364e+00],\n",
       "       [ 1.21908510e+00],\n",
       "       [ 1.45750500e+00],\n",
       "       [ 3.96952355e-01],\n",
       "       [ 8.77273035e-01],\n",
       "       [ 4.41409992e-01],\n",
       "       [ 1.32786429e+00],\n",
       "       [ 4.47275319e-02],\n",
       "       [ 1.60521661e+00],\n",
       "       [ 5.47473335e-01],\n",
       "       [ 1.17222321e+00],\n",
       "       [ 1.40329182e+00],\n",
       "       [ 3.53989034e-01],\n",
       "       [ 7.11446040e-01],\n",
       "       [ 1.03859300e+00],\n",
       "       [ 1.47126708e+00]])"
      ]
     },
     "execution_count": 14,
     "metadata": {},
     "output_type": "execute_result"
    }
   ],
   "source": [
    "x_train1"
   ]
  },
  {
   "cell_type": "code",
   "execution_count": 15,
   "id": "3193abb8",
   "metadata": {},
   "outputs": [
    {
     "name": "stdout",
     "output_type": "stream",
     "text": [
      "Model accuracy score with default hyperparameters: 0.6667\n"
     ]
    }
   ],
   "source": [
    "# import SVC classifier\n",
    "from sklearn.svm import SVC\n",
    "\n",
    "\n",
    "# import metrics to compute accuracy\n",
    "from sklearn.metrics import accuracy_score\n",
    "\n",
    "\n",
    "# instantiate classifier with default hyperparameters\n",
    "svc=SVC() \n",
    "\n",
    "\n",
    "# fit classifier to training set\n",
    "svc.fit(x_train1,y_train)\n",
    "\n",
    "\n",
    "# make predictions on test set\n",
    "y_pred=svc.predict(x_test1)\n",
    "\n",
    "\n",
    "# compute and print accuracy score\n",
    "print('Model accuracy score with default hyperparameters: {0:0.4f}'. format(accuracy_score(y_test, y_pred)))"
   ]
  },
  {
   "cell_type": "code",
   "execution_count": 16,
   "id": "bd63d638",
   "metadata": {},
   "outputs": [
    {
     "data": {
      "text/plain": [
       "array([1, 0, 0, 1, 1, 1, 0, 0, 0, 0, 1, 0, 1, 1, 1, 1, 1, 1])"
      ]
     },
     "execution_count": 16,
     "metadata": {},
     "output_type": "execute_result"
    }
   ],
   "source": [
    "# Analyze prediction values\n",
    "\n",
    "predicted = svc.predict(x_test1)\n",
    "predicted[:]"
   ]
  },
  {
   "cell_type": "code",
   "execution_count": 17,
   "id": "6fee1d7b",
   "metadata": {},
   "outputs": [
    {
     "data": {
      "text/plain": [
       "array([0, 0, 0, 0, 0, 0, 0, 0, 0, 1, 1, 1, 1, 1, 1, 1, 1, 1])"
      ]
     },
     "execution_count": 17,
     "metadata": {},
     "output_type": "execute_result"
    }
   ],
   "source": [
    "y_test"
   ]
  },
  {
   "cell_type": "code",
   "execution_count": 18,
   "id": "37c24db8",
   "metadata": {},
   "outputs": [
    {
     "name": "stdout",
     "output_type": "stream",
     "text": [
      "tf.Tensor(\n",
      "[[5 4]\n",
      " [2 7]], shape=(2, 2), dtype=int32)\n"
     ]
    }
   ],
   "source": [
    "cm = tf.math.confusion_matrix(labels = y_test, predictions= predicted)\n",
    "print(cm)"
   ]
  },
  {
   "cell_type": "code",
   "execution_count": 19,
   "id": "9ea6c401",
   "metadata": {},
   "outputs": [
    {
     "data": {
      "text/plain": [
       "Text(92.25, 0.5, 'Truth')"
      ]
     },
     "execution_count": 19,
     "metadata": {},
     "output_type": "execute_result"
    },
    {
     "data": {
      "image/png": "[encoded data removed]",
      "text/plain": [
       "<Figure size 1000x700 with 2 Axes>"
      ]
     },
     "metadata": {},
     "output_type": "display_data"
    }
   ],
   "source": [
    "import seaborn as sn\n",
    "plt.figure(figsize = (10,7))\n",
    "sn.heatmap(cm, annot=True, fmt='d')\n",
    "plt.xlabel('Predicted')\n",
    "plt.ylabel('Truth')"
   ]
  },
  {
   "cell_type": "code",
   "execution_count": 20,
   "id": "34131be5",
   "metadata": {},
   "outputs": [],
   "source": [
    "predicted = tf.one_hot(predicted, 2)\n"
   ]
  },
  {
   "cell_type": "code",
   "execution_count": 21,
   "id": "a72d6a30",
   "metadata": {},
   "outputs": [
    {
     "data": {
      "text/plain": [
       "<tf.Tensor: shape=(18, 2), dtype=float32, numpy=\n",
       "array([[0., 1.],\n",
       "       [1., 0.],\n",
       "       [1., 0.],\n",
       "       [0., 1.],\n",
       "       [0., 1.],\n",
       "       [0., 1.],\n",
       "       [1., 0.],\n",
       "       [1., 0.],\n",
       "       [1., 0.],\n",
       "       [1., 0.],\n",
       "       [0., 1.],\n",
       "       [1., 0.],\n",
       "       [0., 1.],\n",
       "       [0., 1.],\n",
       "       [0., 1.],\n",
       "       [0., 1.],\n",
       "       [0., 1.],\n",
       "       [0., 1.]], dtype=float32)>"
      ]
     },
     "execution_count": 21,
     "metadata": {},
     "output_type": "execute_result"
    }
   ],
   "source": [
    "predicted"
   ]
  },
  {
   "cell_type": "code",
   "execution_count": 22,
   "id": "f90e8e39",
   "metadata": {},
   "outputs": [
    {
     "name": "stdout",
     "output_type": "stream",
     "text": [
      "              precision    recall  f1-score   support\n",
      "\n",
      "           0       0.71      0.56      0.63         9\n",
      "           1       0.64      0.78      0.70         9\n",
      "\n",
      "    accuracy                           0.67        18\n",
      "   macro avg       0.68      0.67      0.66        18\n",
      "weighted avg       0.68      0.67      0.66        18\n",
      "\n"
     ]
    }
   ],
   "source": [
    "# Import confusion matrix and classification report from scikit-learn\n",
    "from sklearn.metrics import confusion_matrix, classification_report\n",
    "Y_prediction = svc.predict(x_test1)\n",
    "# Convert predictions classes to one hot vectors \n",
    "Y_pred_classes = np.argmax(predicted,axis = 1) \n",
    "# compute the confusion matrix\n",
    "confusion_mtx = confusion_matrix(target[indexes_test], Y_pred_classes) \n",
    "print(classification_report(target[indexes_test], Y_pred_classes))"
   ]
  },
  {
   "cell_type": "code",
   "execution_count": 23,
   "id": "cd454498",
   "metadata": {},
   "outputs": [],
   "source": [
    "import matplotlib.pyplot as plt\n",
    "from sklearn.metrics import plot_roc_curve, auc"
   ]
  },
  {
   "cell_type": "code",
   "execution_count": 24,
   "id": "41860d5d",
   "metadata": {},
   "outputs": [
    {
     "name": "stderr",
     "output_type": "stream",
     "text": [
      "C:\\Users\\achin\\AppData\\Roaming\\Python\\Python310\\site-packages\\sklearn\\utils\\deprecation.py:87: FutureWarning: Function plot_roc_curve is deprecated; Function :func:`plot_roc_curve` is deprecated in 1.0 and will be removed in 1.2. Use one of the class methods: :meth:`sklearn.metrics.RocCurveDisplay.from_predictions` or :meth:`sklearn.metrics.RocCurveDisplay.from_estimator`.\n",
      "  warnings.warn(msg, category=FutureWarning)\n"
     ]
    },
    {
     "data": {
      "text/plain": [
       "<sklearn.metrics._plot.roc_curve.RocCurveDisplay at 0x1c293acab90>"
      ]
     },
     "execution_count": 24,
     "metadata": {},
     "output_type": "execute_result"
    },
    {
     "data": {
      "image/png": "[encoded data removed]",
      "text/plain": [
       "<Figure size 640x480 with 1 Axes>"
      ]
     },
     "metadata": {},
     "output_type": "display_data"
    }
   ],
   "source": [
    "plot_roc_curve(svc, x_test1, y_test)"
   ]
  },
  {
   "cell_type": "code",
   "execution_count": 25,
   "id": "cd7899f9",
   "metadata": {},
   "outputs": [],
   "source": [
    "# Get data path\n",
    "data_path = 'final data/*.nii.gz'\n",
    "# Find all files within the location that matches our search string\n",
    "files = glob.glob(data_path)\n",
    "\n",
    "# Get the labels for our data from our csv file\n",
    "Labels = pd.read_csv('labels.csv')\n",
    "# Define our target from the column \"Labels\" as our y in our model\n",
    "target = Labels['group']"
   ]
  },
  {
   "cell_type": "code",
   "execution_count": 26,
   "id": "750b87f8",
   "metadata": {},
   "outputs": [
    {
     "name": "stdout",
     "output_type": "stream",
     "text": [
      "120\n",
      "(120, 64, 64, 34)\n"
     ]
    }
   ],
   "source": [
    "# Loop through files and load all data files\n",
    "data_all, images = [], []\n",
    "for data_file in sorted(files):\n",
    "    data = nib.load(data_file).get_fdata()\n",
    "    first_vol = data[:,:,:,0]\n",
    "    first = first_vol / 255\n",
    "    data_all.append(first)\n",
    "    \n",
    "# Convert our list into a numpy array\n",
    "images = np.asarray(data_all)\n",
    "\n",
    "print(len(data_all))\n",
    "print (np.shape(images))"
   ]
  },
  {
   "cell_type": "code",
   "execution_count": 27,
   "id": "a2f0eb43",
   "metadata": {},
   "outputs": [
    {
     "name": "stdout",
     "output_type": "stream",
     "text": [
      "(84, 64, 64, 34) (18, 64, 64, 34) (18, 64, 64, 34)\n"
     ]
    }
   ],
   "source": [
    "# Create list of indices\n",
    "N = images.shape[0]\n",
    "indexes = np.arange(N)\n",
    "\n",
    "# Divide our dataset into dyslexics and controls to have a balanced train, validation and test sets\n",
    "dis = indexes[:60]\n",
    "con = indexes[60:]\n",
    "\n",
    "#  Cut the dataset at 80% to create the training, 10% validation and 10% test set\n",
    "size = dis.shape[0]\n",
    "split_1 = int(0.7 * size)\n",
    "split_2 = int(0.85 * size)\n",
    "\n",
    "# Shuffle our dyslexics and controls arrays to create random indexes\n",
    "np.random.shuffle(np.asarray(dis))\n",
    "np.random.shuffle(np.asarray(con))\n",
    "\n",
    "# Create our indexes for our train, validation and test sets according to our previous division (80%, 10%, 10%)\n",
    "indexes_train_dis, indexes_train_con = dis[:split_1], con[:split_1]\n",
    "indexes_val_dis, indexes_val_con   = dis[split_1:split_2], con[split_1:split_2]\n",
    "indexes_test_dis, indexes_test_con = dis[split_2:], con[split_2:]\n",
    "\n",
    "# We concatenate our training, validation and test indexes for dyslexics and controls\n",
    "# By doing that we ensure that each set is balanced with the same number of dyslexics and controls\n",
    "indexes_train = np.concatenate((indexes_train_dis, indexes_train_con), axis=None)\n",
    "indexes_val = np.concatenate((indexes_val_dis, indexes_val_con), axis=None)\n",
    "indexes_test = np.concatenate((indexes_test_dis, indexes_test_con), axis=None)\n",
    "\n",
    "\n",
    "# Split the data into training, validation and test sets according to the indexes created previously\n",
    "X_train = images[indexes_train, ...]\n",
    "X_val = images[indexes_val, ...]\n",
    "X_test = images[indexes_test, ...]\n",
    "print(X_train.shape, X_val.shape,X_test.shape)"
   ]
  },
  {
   "cell_type": "code",
   "execution_count": 28,
   "id": "b3db966a",
   "metadata": {},
   "outputs": [
    {
     "name": "stdout",
     "output_type": "stream",
     "text": [
      "(42,) (42,)\n",
      "(9,) (9,)\n",
      "(9,) (9,)\n"
     ]
    }
   ],
   "source": [
    "print(indexes_train_dis.shape, indexes_train_con.shape)\n",
    "print(indexes_val_dis.shape, indexes_val_con.shape)\n",
    "print(indexes_test_dis.shape, indexes_test_con.shape)"
   ]
  },
  {
   "cell_type": "code",
   "execution_count": 29,
   "id": "cfd52ac2",
   "metadata": {},
   "outputs": [
    {
     "name": "stdout",
     "output_type": "stream",
     "text": [
      "(84, 64, 64, 34)\n",
      "(18, 64, 64, 34)\n",
      "(18, 64, 64, 34)\n",
      "(84,)\n",
      "(18,)\n",
      "(18,)\n"
     ]
    }
   ],
   "source": [
    "# Create outcome variable for each set (training, validation and test)\n",
    "y_train = target[indexes_train] \n",
    "y_val   = target[indexes_val]\n",
    "y_test  = target[indexes_test]\n",
    "print(X_train.shape)\n",
    "print(X_val.shape)\n",
    "print(X_test.shape)\n",
    "print(y_train.shape)\n",
    "print(y_val.shape)\n",
    "print(y_test.shape)"
   ]
  },
  {
   "cell_type": "code",
   "execution_count": 30,
   "id": "4246defa",
   "metadata": {},
   "outputs": [],
   "source": [
    "# Our vectorized labels\n",
    "y_train = np.asarray(y_train).astype('int32')\n",
    "y_test = np.asarray(y_test).astype('int32')\n",
    "y_val = np.asarray(y_val).astype('int32')"
   ]
  },
  {
   "cell_type": "code",
   "execution_count": 31,
   "id": "d4948ef1",
   "metadata": {},
   "outputs": [
    {
     "name": "stdout",
     "output_type": "stream",
     "text": [
      "tf.Tensor(\n",
      "[[1. 0.]\n",
      " [1. 0.]\n",
      " [1. 0.]\n",
      " [1. 0.]\n",
      " [1. 0.]\n",
      " [1. 0.]\n",
      " [1. 0.]\n",
      " [1. 0.]\n",
      " [1. 0.]\n",
      " [0. 1.]\n",
      " [0. 1.]\n",
      " [0. 1.]\n",
      " [0. 1.]\n",
      " [0. 1.]\n",
      " [0. 1.]\n",
      " [0. 1.]\n",
      " [0. 1.]\n",
      " [0. 1.]], shape=(18, 2), dtype=float32)\n"
     ]
    }
   ],
   "source": [
    "y_train = tf.one_hot(y_train, 2)\n",
    "y_test = tf.one_hot(y_test, 2)\n",
    "y_val = tf.one_hot(y_val, 2)\n",
    "print(y_val) "
   ]
  },
  {
   "cell_type": "code",
   "execution_count": 32,
   "id": "5a307011",
   "metadata": {},
   "outputs": [
    {
     "name": "stdout",
     "output_type": "stream",
     "text": [
      "(84, 139264)\n",
      "(18, 139264)\n",
      "(18, 139264)\n"
     ]
    }
   ],
   "source": [
    "x_train = X_train.reshape(len(X_train), -1)\n",
    "print(x_train.shape)\n",
    "x_test = X_test.reshape(len(X_test), -1)\n",
    "print(x_test.shape)\n",
    "x_val = X_val.reshape(len(X_val), -1)\n",
    "print(x_val.shape)"
   ]
  },
  {
   "cell_type": "code",
   "execution_count": 33,
   "id": "c2b533e4",
   "metadata": {},
   "outputs": [],
   "source": [
    "from sklearn.preprocessing import StandardScaler\n",
    "\n",
    "sc = StandardScaler()\n",
    "x_train1 = sc.fit_transform(x_train)\n",
    "x_test1 = sc.transform(x_test)\n",
    "x_val1 = sc.transform(x_val)"
   ]
  },
  {
   "cell_type": "code",
   "execution_count": 34,
   "id": "215da519",
   "metadata": {},
   "outputs": [],
   "source": [
    "from sklearn.discriminant_analysis import LinearDiscriminantAnalysis as LDA\n",
    "\n",
    "lda = LDA(solver='svd', shrinkage=None, priors=None, n_components=1, store_covariance=False, tol=0.0001)\n",
    "x_train1 = lda.fit_transform(x_train1, np.argmax(y_train, axis =1))\n",
    "x_test1 = lda.transform(x_test1)\n",
    "x_val1 = lda.transform(x_val1)"
   ]
  },
  {
   "cell_type": "code",
   "execution_count": 35,
   "id": "4a0ce168",
   "metadata": {},
   "outputs": [
    {
     "name": "stdout",
     "output_type": "stream",
     "text": [
      "Model: \"sequential\"\n",
      "_________________________________________________________________\n",
      " Layer (type)                Output Shape              Param #   \n",
      "=================================================================\n",
      " flatten (Flatten)           (None, 1)                 0         \n",
      "                                                                 \n",
      " dense (Dense)               (None, 500)               1000      \n",
      "                                                                 \n",
      " dropout (Dropout)           (None, 500)               0         \n",
      "                                                                 \n",
      " dense_1 (Dense)             (None, 500)               250500    \n",
      "                                                                 \n",
      " dropout_1 (Dropout)         (None, 500)               0         \n",
      "                                                                 \n",
      " dense_2 (Dense)             (None, 500)               250500    \n",
      "                                                                 \n",
      " dropout_2 (Dropout)         (None, 500)               0         \n",
      "                                                                 \n",
      " dense_3 (Dense)             (None, 2)                 1002      \n",
      "                                                                 \n",
      "=================================================================\n",
      "Total params: 503,002\n",
      "Trainable params: 503,002\n",
      "Non-trainable params: 0\n",
      "_________________________________________________________________\n",
      "Epoch 1/100\n",
      "7/7 [==============================] - 2s 87ms/step - loss: 0.6756 - accuracy: 0.7143 - val_loss: 0.6641 - val_accuracy: 0.6111\n",
      "Epoch 2/100\n",
      "7/7 [==============================] - 0s 18ms/step - loss: 0.5950 - accuracy: 0.8333 - val_loss: 0.6033 - val_accuracy: 0.6111\n",
      "Epoch 3/100\n",
      "7/7 [==============================] - 0s 16ms/step - loss: 0.5177 - accuracy: 0.8333 - val_loss: 0.5968 - val_accuracy: 0.6111\n",
      "Epoch 4/100\n",
      "7/7 [==============================] - 0s 17ms/step - loss: 0.5073 - accuracy: 0.8333 - val_loss: 0.6245 - val_accuracy: 0.6111\n",
      "Epoch 5/100\n",
      "7/7 [==============================] - 0s 16ms/step - loss: 0.5768 - accuracy: 0.8333 - val_loss: 0.6220 - val_accuracy: 0.6111\n",
      "Epoch 6/100\n",
      "7/7 [==============================] - 0s 17ms/step - loss: 0.5161 - accuracy: 0.8214 - val_loss: 0.6127 - val_accuracy: 0.6111\n",
      "Epoch 7/100\n",
      "7/7 [==============================] - 0s 15ms/step - loss: 0.5245 - accuracy: 0.8214 - val_loss: 0.6060 - val_accuracy: 0.6111\n",
      "Epoch 8/100\n",
      "7/7 [==============================] - 0s 16ms/step - loss: 0.4743 - accuracy: 0.8333 - val_loss: 0.6020 - val_accuracy: 0.5556\n",
      "Epoch 9/100\n",
      "7/7 [==============================] - 0s 15ms/step - loss: 0.5269 - accuracy: 0.8333 - val_loss: 0.6037 - val_accuracy: 0.6111\n",
      "Epoch 10/100\n",
      "7/7 [==============================] - 0s 16ms/step - loss: 0.5138 - accuracy: 0.8214 - val_loss: 0.6039 - val_accuracy: 0.6111\n",
      "Epoch 11/100\n",
      "7/7 [==============================] - 0s 17ms/step - loss: 0.4922 - accuracy: 0.8333 - val_loss: 0.6116 - val_accuracy: 0.6111\n",
      "Epoch 12/100\n",
      "7/7 [==============================] - 0s 18ms/step - loss: 0.5062 - accuracy: 0.8333 - val_loss: 0.6096 - val_accuracy: 0.6111\n",
      "Epoch 13/100\n",
      "7/7 [==============================] - 0s 16ms/step - loss: 0.5070 - accuracy: 0.8214 - val_loss: 0.6107 - val_accuracy: 0.6111\n",
      "Epoch 14/100\n",
      "7/7 [==============================] - 0s 16ms/step - loss: 0.5031 - accuracy: 0.8214 - val_loss: 0.6153 - val_accuracy: 0.6111\n",
      "Epoch 15/100\n",
      "7/7 [==============================] - 0s 17ms/step - loss: 0.5280 - accuracy: 0.8095 - val_loss: 0.6195 - val_accuracy: 0.6111\n",
      "Epoch 16/100\n",
      "7/7 [==============================] - 0s 15ms/step - loss: 0.4970 - accuracy: 0.8214 - val_loss: 0.6128 - val_accuracy: 0.6111\n",
      "Epoch 17/100\n",
      "7/7 [==============================] - 0s 18ms/step - loss: 0.4875 - accuracy: 0.8333 - val_loss: 0.6172 - val_accuracy: 0.5556\n",
      "Epoch 18/100\n",
      "7/7 [==============================] - 0s 19ms/step - loss: 0.4891 - accuracy: 0.8333 - val_loss: 0.6218 - val_accuracy: 0.6111\n",
      "Epoch 19/100\n",
      "7/7 [==============================] - 0s 18ms/step - loss: 0.5174 - accuracy: 0.8333 - val_loss: 0.6219 - val_accuracy: 0.6111\n",
      "Epoch 20/100\n",
      "7/7 [==============================] - 0s 16ms/step - loss: 0.4611 - accuracy: 0.8095 - val_loss: 0.6198 - val_accuracy: 0.6111\n",
      "Epoch 21/100\n",
      "7/7 [==============================] - 0s 18ms/step - loss: 0.4753 - accuracy: 0.8214 - val_loss: 0.6296 - val_accuracy: 0.6111\n",
      "Epoch 22/100\n",
      "7/7 [==============================] - 0s 18ms/step - loss: 0.4648 - accuracy: 0.8214 - val_loss: 0.6310 - val_accuracy: 0.6111\n",
      "Epoch 23/100\n",
      "7/7 [==============================] - 0s 18ms/step - loss: 0.4613 - accuracy: 0.8214 - val_loss: 0.6300 - val_accuracy: 0.5556\n",
      "Epoch 24/100\n",
      "7/7 [==============================] - 0s 16ms/step - loss: 0.4795 - accuracy: 0.8333 - val_loss: 0.6426 - val_accuracy: 0.6111\n",
      "Epoch 25/100\n",
      "7/7 [==============================] - 0s 18ms/step - loss: 0.4717 - accuracy: 0.8214 - val_loss: 0.6548 - val_accuracy: 0.6111\n",
      "Epoch 26/100\n",
      "7/7 [==============================] - 0s 18ms/step - loss: 0.4414 - accuracy: 0.8214 - val_loss: 0.6399 - val_accuracy: 0.6111\n",
      "Epoch 27/100\n",
      "7/7 [==============================] - 0s 16ms/step - loss: 0.4997 - accuracy: 0.8333 - val_loss: 0.6255 - val_accuracy: 0.5556\n",
      "Epoch 28/100\n",
      "7/7 [==============================] - 0s 18ms/step - loss: 0.4488 - accuracy: 0.8214 - val_loss: 0.6165 - val_accuracy: 0.6111\n",
      "Epoch 29/100\n",
      "7/7 [==============================] - 0s 18ms/step - loss: 0.4807 - accuracy: 0.8333 - val_loss: 0.6587 - val_accuracy: 0.6111\n",
      "Epoch 30/100\n",
      "7/7 [==============================] - 0s 19ms/step - loss: 0.4668 - accuracy: 0.8333 - val_loss: 0.6568 - val_accuracy: 0.6111\n",
      "Epoch 31/100\n",
      "7/7 [==============================] - 0s 16ms/step - loss: 0.4798 - accuracy: 0.8333 - val_loss: 0.6522 - val_accuracy: 0.6111\n",
      "Epoch 32/100\n",
      "7/7 [==============================] - 0s 17ms/step - loss: 0.4979 - accuracy: 0.8095 - val_loss: 0.6451 - val_accuracy: 0.5556\n",
      "Epoch 33/100\n",
      "7/7 [==============================] - 0s 17ms/step - loss: 0.4751 - accuracy: 0.8095 - val_loss: 0.6597 - val_accuracy: 0.6111\n",
      "Epoch 34/100\n",
      "7/7 [==============================] - 0s 18ms/step - loss: 0.4606 - accuracy: 0.8214 - val_loss: 0.6662 - val_accuracy: 0.6111\n",
      "Epoch 35/100\n",
      "7/7 [==============================] - 0s 18ms/step - loss: 0.4431 - accuracy: 0.8095 - val_loss: 0.6525 - val_accuracy: 0.5556\n",
      "Epoch 36/100\n",
      "7/7 [==============================] - 0s 16ms/step - loss: 0.4738 - accuracy: 0.8333 - val_loss: 0.6441 - val_accuracy: 0.6111\n",
      "Epoch 37/100\n",
      "7/7 [==============================] - 0s 17ms/step - loss: 0.4655 - accuracy: 0.8214 - val_loss: 0.6794 - val_accuracy: 0.6111\n",
      "Epoch 38/100\n",
      "7/7 [==============================] - 0s 16ms/step - loss: 0.4329 - accuracy: 0.8095 - val_loss: 0.7108 - val_accuracy: 0.6111\n",
      "Epoch 39/100\n",
      "7/7 [==============================] - 0s 22ms/step - loss: 0.4549 - accuracy: 0.8333 - val_loss: 0.6831 - val_accuracy: 0.5556\n",
      "Epoch 40/100\n",
      "7/7 [==============================] - 0s 18ms/step - loss: 0.4199 - accuracy: 0.8452 - val_loss: 0.6663 - val_accuracy: 0.5556\n",
      "Epoch 41/100\n",
      "7/7 [==============================] - 0s 17ms/step - loss: 0.4531 - accuracy: 0.8452 - val_loss: 0.6709 - val_accuracy: 0.5556\n",
      "Epoch 42/100\n",
      "7/7 [==============================] - 0s 18ms/step - loss: 0.4682 - accuracy: 0.8333 - val_loss: 0.6847 - val_accuracy: 0.6111\n",
      "Epoch 43/100\n",
      "7/7 [==============================] - 0s 22ms/step - loss: 0.4330 - accuracy: 0.8452 - val_loss: 0.6733 - val_accuracy: 0.5556\n",
      "Epoch 44/100\n",
      "7/7 [==============================] - 0s 21ms/step - loss: 0.4422 - accuracy: 0.8333 - val_loss: 0.6878 - val_accuracy: 0.5556\n",
      "Epoch 45/100\n",
      "7/7 [==============================] - 0s 17ms/step - loss: 0.4617 - accuracy: 0.8333 - val_loss: 0.6773 - val_accuracy: 0.5556\n",
      "Epoch 46/100\n",
      "7/7 [==============================] - 0s 17ms/step - loss: 0.4207 - accuracy: 0.8333 - val_loss: 0.6794 - val_accuracy: 0.5556\n",
      "Epoch 47/100\n",
      "7/7 [==============================] - 0s 18ms/step - loss: 0.4627 - accuracy: 0.8452 - val_loss: 0.6897 - val_accuracy: 0.5556\n",
      "Epoch 48/100\n",
      "7/7 [==============================] - 0s 17ms/step - loss: 0.4399 - accuracy: 0.8333 - val_loss: 0.7079 - val_accuracy: 0.6111\n"
     ]
    },
    {
     "name": "stdout",
     "output_type": "stream",
     "text": [
      "Epoch 49/100\n",
      "7/7 [==============================] - 0s 12ms/step - loss: 0.4346 - accuracy: 0.8214 - val_loss: 0.6795 - val_accuracy: 0.5556\n",
      "Epoch 50/100\n",
      "7/7 [==============================] - 0s 13ms/step - loss: 0.4235 - accuracy: 0.8333 - val_loss: 0.6621 - val_accuracy: 0.6111\n",
      "Epoch 51/100\n",
      "7/7 [==============================] - 0s 15ms/step - loss: 0.4385 - accuracy: 0.8333 - val_loss: 0.6604 - val_accuracy: 0.6111\n",
      "Epoch 52/100\n",
      "7/7 [==============================] - 0s 18ms/step - loss: 0.4899 - accuracy: 0.8452 - val_loss: 0.7181 - val_accuracy: 0.6111\n",
      "Epoch 53/100\n",
      "7/7 [==============================] - 0s 22ms/step - loss: 0.4750 - accuracy: 0.8095 - val_loss: 0.7088 - val_accuracy: 0.6111\n",
      "Epoch 54/100\n",
      "7/7 [==============================] - 0s 18ms/step - loss: 0.4597 - accuracy: 0.8333 - val_loss: 0.6366 - val_accuracy: 0.6111\n",
      "Epoch 55/100\n",
      "7/7 [==============================] - 0s 18ms/step - loss: 0.4493 - accuracy: 0.8333 - val_loss: 0.6689 - val_accuracy: 0.5556\n",
      "Epoch 56/100\n",
      "7/7 [==============================] - 0s 16ms/step - loss: 0.4715 - accuracy: 0.8333 - val_loss: 0.6923 - val_accuracy: 0.6111\n",
      "Epoch 57/100\n",
      "7/7 [==============================] - 0s 16ms/step - loss: 0.4413 - accuracy: 0.8452 - val_loss: 0.6783 - val_accuracy: 0.5556\n",
      "Epoch 58/100\n",
      "7/7 [==============================] - 0s 18ms/step - loss: 0.4368 - accuracy: 0.8333 - val_loss: 0.6880 - val_accuracy: 0.5556\n",
      "Epoch 59/100\n",
      "7/7 [==============================] - 0s 16ms/step - loss: 0.4407 - accuracy: 0.8333 - val_loss: 0.6756 - val_accuracy: 0.5556\n",
      "Epoch 60/100\n",
      "7/7 [==============================] - 0s 16ms/step - loss: 0.4573 - accuracy: 0.8214 - val_loss: 0.6645 - val_accuracy: 0.5556\n",
      "Epoch 61/100\n",
      "7/7 [==============================] - 0s 17ms/step - loss: 0.4460 - accuracy: 0.8452 - val_loss: 0.6842 - val_accuracy: 0.5556\n",
      "Epoch 62/100\n",
      "7/7 [==============================] - 0s 15ms/step - loss: 0.4579 - accuracy: 0.8214 - val_loss: 0.6988 - val_accuracy: 0.5556\n",
      "Epoch 63/100\n",
      "7/7 [==============================] - 0s 20ms/step - loss: 0.4345 - accuracy: 0.8452 - val_loss: 0.7021 - val_accuracy: 0.5556\n",
      "Epoch 64/100\n",
      "7/7 [==============================] - 0s 18ms/step - loss: 0.4548 - accuracy: 0.8333 - val_loss: 0.6582 - val_accuracy: 0.6111\n",
      "Epoch 65/100\n",
      "7/7 [==============================] - 0s 15ms/step - loss: 0.4446 - accuracy: 0.8214 - val_loss: 0.6784 - val_accuracy: 0.5556\n",
      "Epoch 66/100\n",
      "7/7 [==============================] - 0s 18ms/step - loss: 0.5054 - accuracy: 0.8214 - val_loss: 0.6952 - val_accuracy: 0.6111\n",
      "Epoch 67/100\n",
      "7/7 [==============================] - 0s 23ms/step - loss: 0.4482 - accuracy: 0.8452 - val_loss: 0.6793 - val_accuracy: 0.5556\n",
      "Epoch 68/100\n",
      "7/7 [==============================] - 0s 21ms/step - loss: 0.4628 - accuracy: 0.8452 - val_loss: 0.6795 - val_accuracy: 0.5556\n",
      "Epoch 69/100\n",
      "7/7 [==============================] - 0s 21ms/step - loss: 0.4420 - accuracy: 0.8333 - val_loss: 0.6735 - val_accuracy: 0.5556\n",
      "Epoch 70/100\n",
      "7/7 [==============================] - 0s 21ms/step - loss: 0.4343 - accuracy: 0.8333 - val_loss: 0.6729 - val_accuracy: 0.6111\n",
      "Epoch 71/100\n",
      "7/7 [==============================] - 0s 23ms/step - loss: 0.4493 - accuracy: 0.8333 - val_loss: 0.6893 - val_accuracy: 0.5556\n",
      "Epoch 72/100\n",
      "7/7 [==============================] - 0s 19ms/step - loss: 0.4447 - accuracy: 0.8452 - val_loss: 0.7126 - val_accuracy: 0.6111\n",
      "Epoch 73/100\n",
      "7/7 [==============================] - 0s 16ms/step - loss: 0.4656 - accuracy: 0.8214 - val_loss: 0.6747 - val_accuracy: 0.5556\n",
      "Epoch 74/100\n",
      "7/7 [==============================] - 0s 18ms/step - loss: 0.4647 - accuracy: 0.8452 - val_loss: 0.6857 - val_accuracy: 0.5556\n",
      "Epoch 75/100\n",
      "7/7 [==============================] - 0s 19ms/step - loss: 0.4441 - accuracy: 0.8333 - val_loss: 0.6914 - val_accuracy: 0.6111\n",
      "Epoch 76/100\n",
      "7/7 [==============================] - 0s 18ms/step - loss: 0.4370 - accuracy: 0.8452 - val_loss: 0.6905 - val_accuracy: 0.5556\n",
      "Epoch 77/100\n",
      "7/7 [==============================] - 0s 20ms/step - loss: 0.4523 - accuracy: 0.8214 - val_loss: 0.6805 - val_accuracy: 0.5556\n",
      "Epoch 78/100\n",
      "7/7 [==============================] - 0s 20ms/step - loss: 0.4288 - accuracy: 0.8571 - val_loss: 0.6852 - val_accuracy: 0.5556\n",
      "Epoch 79/100\n",
      "7/7 [==============================] - 0s 24ms/step - loss: 0.4414 - accuracy: 0.8333 - val_loss: 0.6834 - val_accuracy: 0.5556\n",
      "Epoch 80/100\n",
      "7/7 [==============================] - 0s 18ms/step - loss: 0.4485 - accuracy: 0.8333 - val_loss: 0.7169 - val_accuracy: 0.6111\n",
      "Epoch 81/100\n",
      "7/7 [==============================] - 0s 22ms/step - loss: 0.4327 - accuracy: 0.8333 - val_loss: 0.6875 - val_accuracy: 0.5556\n",
      "Epoch 82/100\n",
      "7/7 [==============================] - 0s 20ms/step - loss: 0.4245 - accuracy: 0.8333 - val_loss: 0.6789 - val_accuracy: 0.5556\n",
      "Epoch 83/100\n",
      "7/7 [==============================] - 0s 21ms/step - loss: 0.4393 - accuracy: 0.8333 - val_loss: 0.6771 - val_accuracy: 0.6111\n",
      "Epoch 84/100\n",
      "7/7 [==============================] - 0s 21ms/step - loss: 0.4052 - accuracy: 0.8452 - val_loss: 0.6961 - val_accuracy: 0.5556\n",
      "Epoch 85/100\n",
      "7/7 [==============================] - 0s 21ms/step - loss: 0.4542 - accuracy: 0.8214 - val_loss: 0.6972 - val_accuracy: 0.5556\n",
      "Epoch 86/100\n",
      "7/7 [==============================] - 0s 22ms/step - loss: 0.4329 - accuracy: 0.8452 - val_loss: 0.6973 - val_accuracy: 0.5556\n",
      "Epoch 87/100\n",
      "7/7 [==============================] - 0s 19ms/step - loss: 0.4367 - accuracy: 0.8333 - val_loss: 0.6959 - val_accuracy: 0.6111\n",
      "Epoch 88/100\n",
      "7/7 [==============================] - 0s 22ms/step - loss: 0.4387 - accuracy: 0.8214 - val_loss: 0.6979 - val_accuracy: 0.5556\n",
      "Epoch 89/100\n",
      "7/7 [==============================] - 0s 16ms/step - loss: 0.4720 - accuracy: 0.8095 - val_loss: 0.7009 - val_accuracy: 0.5556\n",
      "Epoch 90/100\n",
      "7/7 [==============================] - 0s 17ms/step - loss: 0.4670 - accuracy: 0.8214 - val_loss: 0.7100 - val_accuracy: 0.6111\n",
      "Epoch 91/100\n",
      "7/7 [==============================] - 0s 16ms/step - loss: 0.4301 - accuracy: 0.8333 - val_loss: 0.6682 - val_accuracy: 0.6111\n",
      "Epoch 92/100\n",
      "7/7 [==============================] - 0s 16ms/step - loss: 0.4797 - accuracy: 0.8333 - val_loss: 0.6584 - val_accuracy: 0.6111\n",
      "Epoch 93/100\n",
      "7/7 [==============================] - 0s 14ms/step - loss: 0.4570 - accuracy: 0.8214 - val_loss: 0.6664 - val_accuracy: 0.5556\n",
      "Epoch 94/100\n",
      "7/7 [==============================] - 0s 16ms/step - loss: 0.4421 - accuracy: 0.8452 - val_loss: 0.6720 - val_accuracy: 0.5556\n",
      "Epoch 95/100\n",
      "7/7 [==============================] - 0s 17ms/step - loss: 0.4211 - accuracy: 0.8452 - val_loss: 0.6957 - val_accuracy: 0.5556\n",
      "Epoch 96/100\n",
      "7/7 [==============================] - 0s 17ms/step - loss: 0.4065 - accuracy: 0.8452 - val_loss: 0.7127 - val_accuracy: 0.5556\n",
      "Epoch 97/100\n",
      "7/7 [==============================] - 0s 14ms/step - loss: 0.4545 - accuracy: 0.8333 - val_loss: 0.7214 - val_accuracy: 0.5556\n",
      "Epoch 98/100\n",
      "7/7 [==============================] - 0s 15ms/step - loss: 0.4346 - accuracy: 0.8333 - val_loss: 0.7010 - val_accuracy: 0.5556\n",
      "Epoch 99/100\n",
      "7/7 [==============================] - 0s 16ms/step - loss: 0.4518 - accuracy: 0.8333 - val_loss: 0.6927 - val_accuracy: 0.5556\n",
      "Epoch 100/100\n",
      "7/7 [==============================] - 0s 15ms/step - loss: 0.4523 - accuracy: 0.8333 - val_loss: 0.6784 - val_accuracy: 0.5556\n"
     ]
    },
    {
     "data": {
      "text/plain": [
       "<keras.callbacks.History at 0x1c2926133a0>"
      ]
     },
     "execution_count": 35,
     "metadata": {},
     "output_type": "execute_result"
    }
   ],
   "source": [
    "#ANN code\n",
    "\n",
    "model = keras.Sequential([\n",
    "    keras.layers.Flatten(input_shape= x_train1[0].shape),\n",
    "    keras.layers.Dense(500, kernel_initializer= \"uniform\",  activation='relu'),\n",
    "    keras.layers.Dropout(0.5),\n",
    "    keras.layers.Dense(500, kernel_initializer= \"uniform\", activation='relu'),\n",
    "    keras.layers.Dropout(0.5),\n",
    "    keras.layers.Dense(500, kernel_initializer= \"uniform\", activation='relu'),\n",
    "    keras.layers.Dropout(0.5),\n",
    "    keras.layers.Dense(2, activation='softmax')\n",
    "])\n",
    "\n",
    "model.compile(\n",
    "    optimizer = 'adam',\n",
    "    loss='binary_crossentropy',\n",
    "    metrics=['accuracy']\n",
    ")\n",
    "\n",
    "\n",
    "model.summary()\n",
    "model.fit(x_train1, y_train, validation_data=(x_val1, y_val) ,epochs=100, batch_size=12)"
   ]
  },
  {
   "cell_type": "code",
   "execution_count": 36,
   "id": "f4368760",
   "metadata": {},
   "outputs": [
    {
     "name": "stdout",
     "output_type": "stream",
     "text": [
      "1/1 [==============================] - 0s 63ms/step - loss: 0.6798 - accuracy: 0.7222\n"
     ]
    },
    {
     "data": {
      "text/plain": [
       "[0.6797848343849182, 0.7222222089767456]"
      ]
     },
     "execution_count": 36,
     "metadata": {},
     "output_type": "execute_result"
    }
   ],
   "source": [
    "model.evaluate(x_test1, y_test)"
   ]
  },
  {
   "cell_type": "code",
   "execution_count": 37,
   "id": "98ba49fc",
   "metadata": {},
   "outputs": [
    {
     "name": "stdout",
     "output_type": "stream",
     "text": [
      "1/1 [==============================] - 0s 234ms/step\n"
     ]
    },
    {
     "data": {
      "text/plain": [
       "array([[0.80782795, 0.19217212],\n",
       "       [0.83856547, 0.16143452],\n",
       "       [0.02654145, 0.9734586 ],\n",
       "       [0.9673717 , 0.03262829],\n",
       "       [0.9571502 , 0.0428498 ],\n",
       "       [0.804408  , 0.19559203],\n",
       "       [0.94925165, 0.05074833],\n",
       "       [0.87232476, 0.12767525],\n",
       "       [0.89364654, 0.10635354],\n",
       "       [0.02289643, 0.9771036 ],\n",
       "       [0.95997125, 0.04002871],\n",
       "       [0.9657444 , 0.03425561],\n",
       "       [0.03118405, 0.9688159 ],\n",
       "       [0.9420548 , 0.05794522],\n",
       "       [0.94338906, 0.05661093],\n",
       "       [0.11003529, 0.8899647 ],\n",
       "       [0.03952335, 0.96047664],\n",
       "       [0.09405074, 0.90594923]], dtype=float32)"
      ]
     },
     "execution_count": 37,
     "metadata": {},
     "output_type": "execute_result"
    }
   ],
   "source": [
    "# Analyze prediction values\n",
    "\n",
    "\n",
    "\n",
    "predicted = model.predict(x_test1)\n",
    "predicted[:,:]"
   ]
  },
  {
   "cell_type": "code",
   "execution_count": 38,
   "id": "2e9c6afb",
   "metadata": {},
   "outputs": [
    {
     "name": "stdout",
     "output_type": "stream",
     "text": [
      "1/1 [==============================] - 0s 67ms/step\n",
      "              precision    recall  f1-score   support\n",
      "\n",
      "           0       0.67      0.89      0.76         9\n",
      "           1       0.83      0.56      0.67         9\n",
      "\n",
      "    accuracy                           0.72        18\n",
      "   macro avg       0.75      0.72      0.71        18\n",
      "weighted avg       0.75      0.72      0.71        18\n",
      "\n"
     ]
    }
   ],
   "source": [
    "# Import confusion matrix and classification report from scikit-learn\n",
    "from sklearn.metrics import confusion_matrix, classification_report\n",
    "Y_prediction = model.predict(x_test1)\n",
    "# Convert predictions classes to one hot vectors \n",
    "Y_pred_classes = np.argmax(predicted,axis = 1) \n",
    "# compute the confusion matrix\n",
    "confusion_mtx = confusion_matrix(target[indexes_test], Y_pred_classes) \n",
    "print(classification_report(target[indexes_test], Y_pred_classes))"
   ]
  },
  {
   "cell_type": "code",
   "execution_count": 39,
   "id": "d448921c",
   "metadata": {},
   "outputs": [
    {
     "data": {
      "image/png": "[encoded data removed]",
      "text/plain": [
       "<Figure size 1000x800 with 2 Axes>"
      ]
     },
     "metadata": {},
     "output_type": "display_data"
    }
   ],
   "source": [
    "# Plot confusion matrix\n",
    "plt.figure(figsize=(10,8))\n",
    "sns.heatmap(confusion_mtx, annot=True, fmt=\"d\");"
   ]
  },
  {
   "cell_type": "code",
   "execution_count": 40,
   "id": "c685b766",
   "metadata": {},
   "outputs": [
    {
     "data": {
      "image/png": "[encoded data removed]",
      "text/plain": [
       "<Figure size 640x480 with 1 Axes>"
      ]
     },
     "metadata": {},
     "output_type": "display_data"
    }
   ],
   "source": [
    "from sklearn import metrics\n",
    "\n",
    "fpr, tpr, thresholds = metrics.roc_curve(np.argmax(y_test, axis =1), np.argmax(predicted, axis =1), pos_label=1)\n",
    "roc_auc = metrics.auc(fpr, tpr)\n",
    "\n",
    "lw = 2\n",
    "plt.figure()\n",
    "plt.plot([0, 1], [0, 1], color='navy', lw=lw, linestyle='--', alpha=0.15)\n",
    "plt.plot(fpr, tpr, lw=lw, label=f'ROC curve (area = {roc_auc: 0.2f})')\n",
    "\n",
    "plt.xlabel('False Positive Rate')\n",
    "plt.ylabel('True Positive Rate')\n",
    "plt.title(f'Receiver Operating Characteristic')\n",
    "plt.legend(loc=\"lower right\")\n",
    "plt.show()"
   ]
  },
  {
   "cell_type": "code",
   "execution_count": null,
   "id": "b8467ba6",
   "metadata": {},
   "outputs": [],
   "source": []
  }
 ],
 "metadata": {
  "kernelspec": {
   "display_name": "Python 3 (ipykernel)",
   "language": "python",
   "name": "python3"
  },
  "language_info": {
   "codemirror_mode": {
    "name": "ipython",
    "version": 3
   },
   "file_extension": ".py",
   "mimetype": "text/x-python",
   "name": "python",
   "nbconvert_exporter": "python",
   "pygments_lexer": "ipython3",
   "version": "3.7.13"
  }
 },
 "nbformat": 4,
 "nbformat_minor": 5
}
